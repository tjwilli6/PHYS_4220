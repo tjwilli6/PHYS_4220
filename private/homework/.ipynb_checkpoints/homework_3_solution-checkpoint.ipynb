{
 "cells": [
  {
   "cell_type": "code",
   "execution_count": 1,
   "metadata": {},
   "outputs": [],
   "source": [
    "import numpy as np\n",
    "import matplotlib.pyplot as plt\n",
    "from IPython.display import Video\n",
    "plt.style.use(\"/Users/tjwilli/jupyter.mplstyle\")"
   ]
  },
  {
   "cell_type": "code",
   "execution_count": null,
   "metadata": {},
   "outputs": [],
   "source": [
    "def racc(r):\n",
    "    return 1 / r**3 - 2*r\n",
    "\n",
    "def get_motion(r0,vr0,tstop=10,dt=0.01):\n",
    "    t = np.arange(0,tstop,dt)\n",
    "    r = np.zeros_like(t)\n",
    "    rdot = np.zeros_like(t)\n",
    "    phi = np.zeros_like(t)\n",
    "    \n",
    "    r[0] = r0\n",
    "    rdot[0] = vr0\n",
    "    \n",
    "    for i in range(1,t.size):\n",
    "        rdot[i] = rdot[i-1] + racc(r[i-1]) * dt\n",
    "        r[i] = r[i-1] + rdot[i] * dt\n",
    "        phi[i] = phi[i-1] + dt / r[i]**2\n",
    "    return t,r,phi\n",
    "\n",
    "\n",
    "def plot_xy(**kwds):\n",
    "    x = r * np.cos( phi )\n",
    "    y = r * np.sin( phi )\n",
    "    kwds.setdefault('color','blue')\n",
    "    plt.plot(x,y,**kwds)\n",
    "    plt.gca().set_aspect('equal')\n",
    "    plt.xlabel('X')\n",
    "    plt.ylabel('Y')"
   ]
  },
  {
   "cell_type": "code",
   "execution_count": null,
   "metadata": {},
   "outputs": [],
   "source": [
    "r0 = (1/2)**(1/4)\n",
    "t,r,phi = get_motion(r0,0,dt=1e-3)"
   ]
  },
  {
   "cell_type": "code",
   "execution_count": null,
   "metadata": {},
   "outputs": [],
   "source": [
    "plot_xy()"
   ]
  },
  {
   "cell_type": "code",
   "execution_count": null,
   "metadata": {},
   "outputs": [],
   "source": [
    "t,r,phi = get_motion(1,0,dt=1e-3)"
   ]
  },
  {
   "cell_type": "code",
   "execution_count": null,
   "metadata": {},
   "outputs": [],
   "source": [
    "plot_xy()"
   ]
  },
  {
   "cell_type": "code",
   "execution_count": null,
   "metadata": {},
   "outputs": [],
   "source": [
    "t,r,phi = get_motion(r0,-.2,dt=1e-3)"
   ]
  },
  {
   "cell_type": "code",
   "execution_count": null,
   "metadata": {},
   "outputs": [],
   "source": [
    "plot_xy()"
   ]
  },
  {
   "cell_type": "code",
   "execution_count": null,
   "metadata": {},
   "outputs": [],
   "source": [
    "t,r,phi = get_motion(r0,1,dt=1e-3)"
   ]
  },
  {
   "cell_type": "code",
   "execution_count": null,
   "metadata": {},
   "outputs": [],
   "source": [
    "plot_xy()"
   ]
  },
  {
   "cell_type": "code",
   "execution_count": null,
   "metadata": {},
   "outputs": [],
   "source": [
    "t,r,phi = get_motion(r0,5,dt=1e-3)"
   ]
  },
  {
   "cell_type": "code",
   "execution_count": null,
   "metadata": {},
   "outputs": [],
   "source": [
    "plot_xy()"
   ]
  },
  {
   "cell_type": "code",
   "execution_count": null,
   "metadata": {},
   "outputs": [],
   "source": [
    "t,r,phi = get_motion(r0,50,dt=1e-4)"
   ]
  },
  {
   "cell_type": "code",
   "execution_count": null,
   "metadata": {},
   "outputs": [],
   "source": [
    "plot_xy()"
   ]
  },
  {
   "cell_type": "code",
   "execution_count": null,
   "metadata": {},
   "outputs": [],
   "source": [
    "plt.plot(t,r)"
   ]
  },
  {
   "cell_type": "code",
   "execution_count": 15,
   "metadata": {},
   "outputs": [
    {
     "data": {
      "text/html": [
       "<video src=\"/Users/tjwilli/google_drive/course_materials/phys_4220/private/python/animation/orbits/orbit_harmonic_vr0_0_00_r0_1_00_dt_0_01_tstop_2_00.mp4\" controls  >\n",
       "      Your browser does not support the <code>video</code> element.\n",
       "    </video>"
      ],
      "text/plain": [
       "<IPython.core.display.Video object>"
      ]
     },
     "execution_count": 15,
     "metadata": {},
     "output_type": "execute_result"
    }
   ],
   "source": [
    "Video(\"/Users/tjwilli/google_drive/course_materials/phys_4220/private/python/animation/orbits/orbit_harmonic_vr0_0_00_r0_1_00_dt_0_01_tstop_2_00.mp4\")"
   ]
  },
  {
   "cell_type": "code",
   "execution_count": 9,
   "metadata": {},
   "outputs": [],
   "source": [
    "import os"
   ]
  },
  {
   "cell_type": "code",
   "execution_count": null,
   "metadata": {},
   "outputs": [],
   "source": []
  }
 ],
 "metadata": {
  "kernelspec": {
   "display_name": "Python 3",
   "language": "python",
   "name": "python3"
  },
  "language_info": {
   "codemirror_mode": {
    "name": "ipython",
    "version": 3
   },
   "file_extension": ".py",
   "mimetype": "text/x-python",
   "name": "python",
   "nbconvert_exporter": "python",
   "pygments_lexer": "ipython3",
   "version": "3.7.6"
  }
 },
 "nbformat": 4,
 "nbformat_minor": 4
}
