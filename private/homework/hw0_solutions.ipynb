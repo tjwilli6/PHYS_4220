{
 "cells": [
  {
   "cell_type": "code",
   "execution_count": 1,
   "metadata": {},
   "outputs": [],
   "source": [
    "import numpy as np\n",
    "import matplotlib.pyplot as plt"
   ]
  },
  {
   "cell_type": "markdown",
   "metadata": {},
   "source": [
    "## Problem 1"
   ]
  },
  {
   "cell_type": "code",
   "execution_count": null,
   "metadata": {},
   "outputs": [],
   "source": [
    "#create a random vector of size 10\n",
    "size = 10\n",
    "randvec = np.random.rand(size)\n",
    "print(randvec)\n",
    "#What is the maximum value?\n",
    "maxval = randvec.max()\n",
    "maxind = randvec.argmin()\n",
    "#Replace w 0\n",
    "randvec[maxind] = 0\n",
    "print(randvec)"
   ]
  },
  {
   "cell_type": "markdown",
   "metadata": {},
   "source": [
    "## Problem 2"
   ]
  },
  {
   "cell_type": "code",
   "execution_count": 5,
   "metadata": {},
   "outputs": [
    {
     "name": "stdout",
     "output_type": "stream",
     "text": [
      "7.0710678118654755 0.9272952180016122 0.7853981633974484\n",
      "(4.705070719233549, 1.5058126650418855, 0.7712572494379202)\n"
     ]
    }
   ],
   "source": [
    "def cart_to_sphere(x,y,z):\n",
    "    r = np.sqrt( x**2 + y**2 + z**2 )\n",
    "    phi = np.arctan2(y,x)\n",
    "    theta = np.arccos(z/r)\n",
    "    return r,phi,theta\n",
    "\n",
    "def sphere_to_cart(r,phi,theta):\n",
    "    x = r * np.sin(theta) * np.cos(phi)\n",
    "    y = r * np.sin(theta) * np.sin(phi)\n",
    "    z = r * np.cos(theta)\n",
    "    return x,y,z\n",
    "\n",
    "r,phi,theta = cart_to_sphere(3,4,5)\n",
    "print(r,phi,theta)\n",
    "print(sphere_to_cart(5,60,30))"
   ]
  },
  {
   "cell_type": "markdown",
   "metadata": {},
   "source": [
    "## Problem 3\n",
    "\n",
    "Sketch and pseudocode here --> \n",
    "https://drive.google.com/file/d/1__NOsJwpeaf2Jduw2x9MjM3r3nmfuqLD/view?usp=sharing"
   ]
  },
  {
   "cell_type": "code",
   "execution_count": 2,
   "metadata": {},
   "outputs": [
    {
     "data": {
      "text/plain": [
       "<matplotlib.image.AxesImage at 0x7f978ddde7d0>"
      ]
     },
     "execution_count": 2,
     "metadata": {},
     "output_type": "execute_result"
    },
    {
     "data": {
      "image/png": "[encoded data removed]",
      "text/plain": [
       "<Figure size 432x288 with 2 Axes>"
      ]
     },
     "metadata": {
      "needs_background": "light"
     },
     "output_type": "display_data"
    }
   ],
   "source": [
    "def to_block_sum( array ):\n",
    "    output = np.zeros( (4,4) ) #4x4 array\n",
    "    for i in range(4):\n",
    "        for j in range(4):\n",
    "            subarray = array[4*i:4*i+4,4*j:4*j+4]\n",
    "            output[i,j] = subarray.sum()\n",
    "    return output\n",
    "array = np.random.randint(0,10, size=(16,16) )\n",
    "output = to_block_sum(array)\n",
    "\n",
    "plt.subplot(1,2,1)\n",
    "plt.imshow( array )\n",
    "plt.subplot(1,2,2)\n",
    "plt.imshow( output )"
   ]
  },
  {
   "cell_type": "markdown",
   "metadata": {},
   "source": [
    "## Problem 4"
   ]
  },
  {
   "cell_type": "code",
   "execution_count": 9,
   "metadata": {},
   "outputs": [
    {
     "data": {
      "image/png": "[encoded data removed]",
      "text/plain": [
       "<Figure size 432x288 with 1 Axes>"
      ]
     },
     "metadata": {
      "needs_background": "light"
     },
     "output_type": "display_data"
    }
   ],
   "source": [
    "x = np.random.uniform(0,10,1000)\n",
    "y = np.random.uniform(0,10,1000)\n",
    "z = np.random.uniform(0,10,1000)\n",
    "w = np.random.uniform(0,10,1000)\n",
    "\n",
    "plt.hist( np.sqrt(x**2+y**2) ,label='2d')\n",
    "plt.hist( np.sqrt(x**2+y**2+z**2) ,label='3d')\n",
    "plt.hist( np.sqrt(x**2+y**2+z**2+w**2) ,label='4d')\n",
    "plt.legend();"
   ]
  },
  {
   "cell_type": "markdown",
   "metadata": {},
   "source": [
    "## Problem 5"
   ]
  },
  {
   "cell_type": "code",
   "execution_count": 43,
   "metadata": {},
   "outputs": [],
   "source": [
    "#Generate random points\n",
    "size = int(1_000)\n",
    "x = np.random.uniform(-1,1,size)\n",
    "y = np.random.uniform(-1,1,size)"
   ]
  },
  {
   "cell_type": "code",
   "execution_count": 53,
   "metadata": {},
   "outputs": [
    {
     "name": "stdout",
     "output_type": "stream",
     "text": [
      "182\n"
     ]
    }
   ],
   "source": [
    "#Choose (arbitrarily) R=0.5. Must be within (-1,1)\n",
    "R = 0.5\n",
    "\n",
    "#Count the number of pts <x,y> within the circle R\n",
    "num_inside = 0\n",
    "for i in range(x.size):\n",
    "    if np.sqrt( x[i]**2+y[i]**2 ) <= R:\n",
    "        num_inside+=1\n",
    "        \n",
    "#one line solution with numpy\n",
    "#(np.hypot(x,y) <= R).sum()\n",
    "print(num_inside)"
   ]
  },
  {
   "cell_type": "code",
   "execution_count": 54,
   "metadata": {},
   "outputs": [],
   "source": [
    "#Total area (1- -1)**2\n",
    "A = 2*2\n",
    "frac = num_inside / x.size\n",
    "area_circle = A * frac"
   ]
  },
  {
   "cell_type": "code",
   "execution_count": 55,
   "metadata": {},
   "outputs": [
    {
     "name": "stdout",
     "output_type": "stream",
     "text": [
      "2.912\n"
     ]
    }
   ],
   "source": [
    "#Our estimate of pi\n",
    "print(area_circle/R**2)"
   ]
  },
  {
   "cell_type": "code",
   "execution_count": 56,
   "metadata": {},
   "outputs": [],
   "source": [
    "#Make it into a function\n",
    "def estimate_pi(npts):\n",
    "    \"\"\"Estimate pi using npts random numbers.\n",
    "    Accuracy should improve with larger npts\"\"\"\n",
    "    x = np.random.uniform(-1,1,npts)\n",
    "    y = np.random.uniform(-1,1,npts)\n",
    "    R = 0.5\n",
    "    A = 2 * 2\n",
    "    #See above. One-line solution instead of looping.\n",
    "    #Much faster for large npts\n",
    "    num_inside = np.sum( np.hypot(x,y) <= R )\n",
    "    frac = num_inside / npts\n",
    "    acirc = frac * A\n",
    "    #Return pi estimate\n",
    "    return acirc / R**2"
   ]
  },
  {
   "cell_type": "code",
   "execution_count": 62,
   "metadata": {},
   "outputs": [
    {
     "data": {
      "text/plain": [
       "Text(0, 0.5, 'pi estimate')"
      ]
     },
     "execution_count": 62,
     "metadata": {},
     "output_type": "execute_result"
    },
    {
     "data": {
      "image/png": "[encoded data removed]",
      "text/plain": [
       "<Figure size 432x288 with 1 Axes>"
      ]
     },
     "metadata": {
      "needs_background": "light"
     },
     "output_type": "display_data"
    }
   ],
   "source": [
    "#See how our pi estimate improves with increasing number of generated points\n",
    "\n",
    "#100 points distributed evenly in log space (10-->10^6)\n",
    "npts = np.logspace(1,6,100,dtype=int)\n",
    "pi = np.zeros(npts.size)\n",
    "for i in range(npts.size):\n",
    "    pi[i] = estimate_pi(npts[i])\n",
    "plt.plot(npts,pi,c='red')\n",
    "plt.xscale('log')\n",
    "plt.axhline(np.pi,ls='--',c='k')\n",
    "plt.xlabel('# of generated points')\n",
    "plt.ylabel('pi estimate')"
   ]
  },
  {
   "cell_type": "code",
   "execution_count": 63,
   "metadata": {},
   "outputs": [
    {
     "data": {
      "text/plain": [
       "array([3.2       , 2.90909091, 1.33333333, 3.42857143, 2.13333333,\n",
       "       5.64705882, 3.2       , 2.90909091, 3.2       , 3.42857143,\n",
       "       5.16129032, 4.57142857, 3.2       , 1.77777778, 2.88      ,\n",
       "       2.52631579, 2.75      , 2.88888889, 3.75308642, 1.75824176,\n",
       "       1.88235294, 3.22807018, 2.85271318, 2.97931034, 3.75308642,\n",
       "       4.63387978, 3.9804878 , 3.18614719, 2.9034749 , 2.58419244,\n",
       "       3.86544343, 2.96457766, 3.13801453, 3.55172414, 3.00959693,\n",
       "       2.81709402, 3.26331811, 3.46414073, 2.9686747 , 3.36480687,\n",
       "       3.23973257, 3.29251701, 3.41559425, 2.8787062 , 3.1942446 ,\n",
       "       3.11799253, 3.01901141, 3.28257191, 3.24698795, 3.17532685,\n",
       "       3.31363772, 3.23060574, 3.08347127, 3.072     , 3.1874063 ,\n",
       "       3.0990991 , 3.1006831 , 3.11581174, 3.20112981, 3.21843897,\n",
       "       3.0904682 , 3.07513491, 3.14323725, 3.12020528, 3.16757453,\n",
       "       3.18264769, 3.1021166 , 3.15623321, 3.12348722, 3.13209771,\n",
       "       3.18376866, 3.1045024 , 3.14662601, 3.14235183, 3.16736846,\n",
       "       3.15207223, 3.14424165, 3.19892543, 3.14024881, 3.13776868,\n",
       "       3.12188722, 3.18094805, 3.16157357, 3.15984753, 3.12195569,\n",
       "       3.13081751, 3.13849977, 3.12646796, 3.13571364, 3.13267706,\n",
       "       3.14122562, 3.13679834, 3.14841715, 3.13392351, 3.15283116,\n",
       "       3.13450494, 3.15259965, 3.13431472, 3.14036497, 3.13544   ])"
      ]
     },
     "execution_count": 63,
     "metadata": {},
     "output_type": "execute_result"
    }
   ],
   "source": [
    "pi"
   ]
  },
  {
   "cell_type": "code",
   "execution_count": null,
   "metadata": {},
   "outputs": [],
   "source": []
  },
  {
   "cell_type": "code",
   "execution_count": null,
   "metadata": {},
   "outputs": [],
   "source": []
  }
 ],
 "metadata": {
  "kernelspec": {
   "display_name": "Python 3",
   "language": "python",
   "name": "python3"
  },
  "language_info": {
   "codemirror_mode": {
    "name": "ipython",
    "version": 3
   },
   "file_extension": ".py",
   "mimetype": "text/x-python",
   "name": "python",
   "nbconvert_exporter": "python",
   "pygments_lexer": "ipython3",
   "version": "3.7.6"
  }
 },
 "nbformat": 4,
 "nbformat_minor": 4
}
