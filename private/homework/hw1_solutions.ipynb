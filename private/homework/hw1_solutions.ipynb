{
 "cells": [
  {
   "cell_type": "code",
   "execution_count": null,
   "metadata": {},
   "outputs": [],
   "source": [
    "import numpy as np\n",
    "import matplotlib.pyplot as plt\n",
    "plt.style.use(\"/Users/tjwilli/jupyter.mplstyle\")"
   ]
  },
  {
   "cell_type": "markdown",
   "metadata": {},
   "source": [
    "# Problem 1\n",
    "## $\\frac{dv}{dt} = -g$\n",
    "## Solve analytically\n",
    "## &emsp; $\\frac{dv}{dt} = -g\\rightarrow dv=-gt$\n",
    "#### &emsp;Integrate both sides\n",
    "## &emsp; $\\int_0^vdv=\\int_0^t-gdt\\rightarrow v(t)=-gt+const; v(t=0)=v_0=const\\rightarrow v(t)=-gt+v_0$"
   ]
  },
  {
   "cell_type": "code",
   "execution_count": null,
   "metadata": {},
   "outputs": [],
   "source": [
    "def euler1(dt=0.1,v0=0,tstop=100,g=9.8):\n",
    "    \"\"\"\n",
    "    Solve the above eqn using euler\n",
    "    Expected inputs:\n",
    "        dt: the time step [default=0.1]\n",
    "        v0: the initial velocity [default=0]\n",
    "        tstop: when to stop the calculation [default=100]\n",
    "        g: gravity [default=9.8]\n",
    "    \"\"\"\n",
    "    #start at 0, stop at tstop, step by dt\n",
    "    t = np.arange( 0, tstop, dt )\n",
    "    v = np.zeros_like( t )\n",
    "    y = np.zeros_like( t )\n",
    "    \n",
    "    #initial conditions\n",
    "    v[0] = v0\n",
    "    for i in range(1,t.size):\n",
    "        v[i] = v[i-1] - g * dt\n",
    "        y[i] = y[i-1] + v[i-1] * dt\n",
    "    return t,v,y\n",
    "\n",
    "\n",
    "dtvals = np.logspace(-4,0,5)\n",
    "for dt in dtvals:\n",
    "    t,v,y = euler1(dt)\n",
    "    plt.plot( t,v,label=r'$\\Delta t$={:.2E}'.format(dt) )\n",
    "    \n",
    "plt.plot(t,-9.8*t,label='analytical')\n",
    "plt.xlabel('time [s]')\n",
    "plt.ylabel('position [m]')\n",
    "plt.legend()"
   ]
  },
  {
   "cell_type": "markdown",
   "metadata": {},
   "source": [
    "#### Evidently our Euler method is independent of $\\Delta t$ here\n",
    "#### In fact, we can show that our computed solution is exact"
   ]
  },
  {
   "cell_type": "code",
   "execution_count": null,
   "metadata": {},
   "outputs": [],
   "source": [
    "plt.plot(t,(-9.8*t - v) )"
   ]
  },
  {
   "cell_type": "markdown",
   "metadata": {},
   "source": [
    "#### Since $\\frac{dv}{dt}$ is a constant, there are no higher order derivatives. Therefore when we omit the $\\frac{d^2v}{dt^2}\\Delta t^2$ term from our Taylor expansion, we are not introducing any error (except for floating point errors, as you can see)"
   ]
  },
  {
   "cell_type": "markdown",
   "metadata": {},
   "source": [
    "# Problem 2\n",
    "## $\\frac{dv}{dt} = a-bv$\n",
    "\n",
    "### (a)\n",
    "### &emsp;Dimensions of a = [a]\n",
    "### &emsp;[a] must match $\\left[\\frac{dv}{dt}\\right] = \\left[\\frac{L}{T^2}\\right]\\rightarrow [a]=\\left[\\frac{L}{T^2}\\right]$\n",
    "### &emsp; Similarly: $[bv]=\\left[\\frac{L}{T^2}\\right]\\rightarrow [b]\\left[\\frac{L}{T}\\right]=\\left[\\frac{L}{T^2}\\right]\\rightarrow [b]=\\left[\\frac{1}{T}\\right]$\n",
    "### (b)\n",
    "### &emsp; $\\bar{t}=\\frac{t}{t_0}, \\bar{v}=\\frac{v}{v_0}\\rightarrow v=v_0\\bar{v},t=t_0\\bar{t}$\n",
    "### &emsp; $\\frac{dv}{dt} = a-bv\\rightarrow \\frac{v_0}{t_0}\\frac{d\\bar{v}}{d\\bar{t}}=a-bv_0\\bar{v}$\n",
    "### &emsp; $\\frac{d\\bar{v}}{d\\bar{t}}=\\frac{t_0}{v_0}a-\\frac{t_0}{v_0}bv_0\\bar{v}\\rightarrow\\frac{d\\bar{v}}{d\\bar{t}}=\\frac{t_0}{v_0}a-t_0b\\bar{v}$\n",
    "### &emsp; Since we know $[b]=\\left[\\frac{1}{T}\\right]$, choose $t_0=\\frac{1}{b}$\n",
    "### &emsp; Equation becomes: $\\frac{d\\bar{v}}{d\\bar{t}}=\\frac{t_0}{v_0}a-\\frac{t_0}{v_0}bv_0\\bar{v}\\rightarrow\\frac{d\\bar{v}}{d\\bar{t}}=\\frac{a}{b}\\frac{1}{v_0}-\\bar{v}$\n",
    "### &emsp; $\\left[\\frac{a}{b}\\right]=\\left[\\frac{L/T^2}{1/T}\\right]=\\left[\\frac{L}{T}\\right]=[v_0]$\n",
    "### &emsp; Choose $v_0=\\frac{a}{b}$\n",
    "### &emsp; Our normalized equation:$\\frac{d\\bar{v}}{d\\bar{t}}=1-\\bar{v}, \\bar{v}=\\frac{v}{a/b}, \\bar{t}=\\frac{t}{1/b}$\n",
    "### (c)\n",
    "### &emsp; Analytically:\n",
    "### &emsp; change of variables: $w=1-\\bar{v}\\rightarrow \\bar{v}=1-w$\n",
    "### &emsp; $\\frac{d\\bar{v}}{d\\bar{t}}=\\frac{d(1-w)}{d\\bar{t}}=-\\frac{dw}{d\\bar{t}}$\n",
    "### &emsp; $\\frac{dw}{d\\bar{t}}=-w$\n",
    "### &emsp; $\\frac{dw}{w}=-d\\bar{t}, \\frac{dw}{w}=-d\\bar{t}\\rightarrow \\int_0^w\\frac{dw}{w}=-\\int_0^\\bar{t}d\\bar{t}\\rightarrow \\ln{w}=-\\bar{t}+C\\rightarrow w=e^{-\\bar{t}+C}\\rightarrow w=e^Ce^{-\\bar{t}}\\rightarrow w=C'e^{-\\bar{t}}$\n",
    "### &emsp; $w=C'e^{-\\bar{t}}\\rightarrow 1-\\bar{v}=C'e^{-\\bar{t}}\\rightarrow \\bar{v}=1-C'e^{-\\bar{t}}, \\bar{v}(\\bar{t}=0)=1-C'=\\bar{v_0}\\rightarrow C'=1-\\bar{v_0}$\n",
    "### &emsp; $\\bar{v}=1-(1-\\bar{v_0})e^{-\\bar{t}}$\n",
    "### &emsp; Investigate $\\bar{v_0} < 1, \\bar{v_0} > 1, \\bar{v_0} = 1$\n",
    "### &emsp; Numerically:"
   ]
  },
  {
   "cell_type": "code",
   "execution_count": null,
   "metadata": {},
   "outputs": [],
   "source": [
    "def euler2(dt=0.01,v0=0,tstop=10):\n",
    "    \"\"\"\n",
    "    Solve the above eqn using euler\n",
    "    Expected inputs:\n",
    "        dt: the time step [default=0.1]\n",
    "        v0: the initial velocity [default=0]\n",
    "        tstop: when to stop the calculation [default=100]\n",
    "        g: gravity [default=9.8]\n",
    "    \"\"\"\n",
    "    #start at 0, stop at tstop, step by dt\n",
    "    t = np.arange( 0, tstop, dt )\n",
    "    v = np.zeros_like( t )\n",
    "    y = np.zeros_like( t )\n",
    "    \n",
    "    #initial conditions\n",
    "    v[0] = v0\n",
    "    for i in range(1,t.size):\n",
    "        v[i] = v[i-1] + (1 - v[i-1] ) * dt\n",
    "        y[i] = y[i-1] + v[i-1] * dt\n",
    "    return t,v,y"
   ]
  },
  {
   "cell_type": "code",
   "execution_count": null,
   "metadata": {},
   "outputs": [],
   "source": [
    "for v0 in (0.5,1.5,1):\n",
    "    t,v,y = euler2(v0=v0,tstop=5)\n",
    "    plt.plot(t,v,label=r'$\\bar{{v_0}}=${}'.format(v0))\n",
    "plt.xlabel(r'$b t$')\n",
    "plt.ylabel(r'$\\frac{b}{a}v$')\n",
    "plt.legend()"
   ]
  },
  {
   "cell_type": "markdown",
   "metadata": {},
   "source": [
    "### (d)\n",
    "### &emsp; $\\bar{v}\\left(\\bar{t}\\to\\infty\\right)\\to 1$\n",
    "### &emsp; If $\\bar{v}\\to1$, then $v\\to\\frac{a}{b}$\n",
    "### &emsp; $v_\\infty=\\frac{a}{b}$ is the terminal velocity. Higher acceleration term $a$ leads to a higher terminal velocity, while higher frictional term $b$ lowers the terminal velocity"
   ]
  },
  {
   "cell_type": "markdown",
   "metadata": {},
   "source": [
    "# Problem 3\n",
    "### (a)\n",
    "### &emsp; $\\frac{dN_A}{dt}=-\\frac{1}{\\tau_A}N_A$\n",
    "### (b)\n",
    "### &emsp; $\\frac{dN_B}{dt}=\\frac{1}{\\tau_A}N_A-\\frac{1}{\\tau_B}N_B$\n",
    "### (c)\n",
    "### &emsp; $\\bar{N_A}=\\frac{N_A}{N_0},\\bar{N_B}=\\frac{N_B}{N_0}, \\bar{t}=\\frac{t}{t_0}$\n",
    "### &emsp; Know that $N_A(t=0)=N_B(t=0)$; Choose $N_0 = N_{A,0}=N_{B,0}$\n",
    "### &emsp; Choose either $\\tau_A$ or $\\tau_B$ for $t_0$. I will choose $\\tau_A$, but the result will be the same if you choose $\\tau_B$\n",
    "### &emsp; Substitute: $N_A\\to N_0\\bar{N}_A$, $N_B\\to N_0\\bar{N}_B$, $t\\to \\tau_A\\bar{t}$\n",
    "### &emsp; $\\frac{N_0}{\\tau_A}\\frac{d\\bar{N}_A}{d\\bar{t}}=-\\frac{N_0}{\\tau_A}N_A\\implies\\frac{d\\bar{N}_A}{d\\bar{t}}=-\\bar{N}_A$\n",
    "### &emsp; $\\frac{N_0}{\\tau_A}\\frac{d\\bar{N}_B}{d\\bar{t}}=\\frac{N_0}{\\tau_A}N_A-\\frac{N_0}{\\tau_B}N_B\\implies\\frac{d\\bar{N}_B}{d\\bar{t}}=\\bar{N}_A-\\frac{\\tau_A}{\\tau_B}\\bar{N}_B=\\bar{N}_A-\\tau\\bar{N}_B$, $\\tau:=\\frac{\\tau_A}{\\tau_B}$\n",
    "### (d)\n",
    "### &emsp; Numerically:"
   ]
  },
  {
   "cell_type": "code",
   "execution_count": null,
   "metadata": {},
   "outputs": [],
   "source": [
    "def euler3(dt=0.01,tau=1,tstop=5):\n",
    "    \"\"\"\n",
    "    Solve the above eqn using euler\n",
    "    Expected inputs:\n",
    "        dt: the time step [default=0.1]\n",
    "        v0: the initial velocity [default=0]\n",
    "        tstop: when to stop the calculation [default=100]\n",
    "        g: gravity [default=9.8]\n",
    "    \"\"\"\n",
    "    #start at 0, stop at tstop, step by dt\n",
    "    t = np.arange( 0, tstop, dt )\n",
    "    NA = np.zeros_like( t )\n",
    "    NB = np.zeros_like( t )\n",
    "    NA[0] = 1\n",
    "    NB[0] = 1\n",
    "    \n",
    "    #initial conditions\n",
    "    v[0] = v0\n",
    "    for i in range(1,t.size):\n",
    "        NA[i] = NA[i-1] - NA[i-1] * dt\n",
    "        NB[i] = NB[i-1] + ( NA[i-1] - tau * NB[i-1] ) * dt\n",
    "    return t,NA,NB"
   ]
  },
  {
   "cell_type": "code",
   "execution_count": null,
   "metadata": {},
   "outputs": [],
   "source": [
    "i = 0\n",
    "for tau in (0.2,1,1.5,5):\n",
    "    t,NA,NB = euler3(tau=tau)\n",
    "    plt.subplot(2,2,i+1)\n",
    "    plt.plot(t,NA,label=r'$N_A$')\n",
    "    plt.plot(t,NB,label=r'$N_B$')\n",
    "    plt.ylim(0,1.5)\n",
    "    plt.xlim(0,5)\n",
    "    plt.title(r'$\\tau=${}'.format(tau))\n",
    "\n",
    "    if i%2 == 0:\n",
    "        plt.ylabel(r'$\\frac{N}{N_0}$')\n",
    "        if i == 0: plt.legend()\n",
    "    if i >= 2:\n",
    "        plt.xlabel(r'$\\frac{t}{\\tau_A}$')\n",
    "    i+=1\n",
    "plt.tight_layout()"
   ]
  },
  {
   "cell_type": "markdown",
   "metadata": {},
   "source": []
  }
 ],
 "metadata": {
  "kernelspec": {
   "display_name": "Python 3",
   "language": "python",
   "name": "python3"
  },
  "language_info": {
   "codemirror_mode": {
    "name": "ipython",
    "version": 3
   },
   "file_extension": ".py",
   "mimetype": "text/x-python",
   "name": "python",
   "nbconvert_exporter": "python",
   "pygments_lexer": "ipython3",
   "version": "3.7.6"
  }
 },
 "nbformat": 4,
 "nbformat_minor": 4
}
