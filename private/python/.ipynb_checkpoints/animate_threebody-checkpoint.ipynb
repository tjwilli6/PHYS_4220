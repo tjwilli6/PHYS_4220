{
 "cells": [
  {
   "cell_type": "code",
   "execution_count": 7,
   "metadata": {},
   "outputs": [],
   "source": [
    "import numpy as np\n",
    "from matplotlib import pyplot as plt\n",
    "from matplotlib.animation import FuncAnimation\n",
    "plt.style.use(\"/Users/tjwilli/jupyter.mplstyle\")"
   ]
  },
  {
   "cell_type": "code",
   "execution_count": 8,
   "metadata": {},
   "outputs": [],
   "source": [
    "def three_body(x0:list,y0:list,vx0:list,vy0:list,m:list,dt:float=0.01,tstop:float=10):\n",
    "    t = np.arange(0,tstop,dt)\n",
    "    vx1,vy1,x1,y1,vx2,vy2,x2,y2,vx3,vy3,x3,y3 = (np.zeros_like(t) for i in range(12) )\n",
    "    m = m / np.sum(m)\n",
    "    x = [x1,x2,x3]\n",
    "    y = [y1,y2,y3]\n",
    "    vx = [vx1,vx2,vx3]\n",
    "    vy = [vy1,vy2,vy3]\n",
    "    for i in range(3):\n",
    "        x[i][0] = x0[i]\n",
    "        y[i][0] = y0[i]\n",
    "        vx[i][0] = vx0[i]\n",
    "        vy[i][0] = vy0[i]\n",
    "    \n",
    "    for i in range(1,t.size):\n",
    "        n = i\n",
    "        dvx1 = ( \n",
    "            -m[1] * (x1[n-1] - x2[n-1]) / np.hypot(x1[n-1]-x2[n-1],y1[n-1]-y2[n-1])**3 \n",
    "            -m[2] * (x1[n-1] - x3[n-1]) / np.hypot(x1[n-1]-x3[n-1],y1[n-1]-y3[n-1])**3\n",
    "        )\n",
    "        dvy1 = ( \n",
    "            -m[1] * (y1[n-1] - y2[n-1]) / np.hypot(x1[n-1]-x2[n-1],y1[n-1]-y2[n-1])**3 \n",
    "            -m[2] * (y1[n-1] - y3[n-1]) / np.hypot(x1[n-1]-x3[n-1],y1[n-1]-y3[n-1])**3\n",
    "        )\n",
    "        \n",
    "        dvx2 = ( \n",
    "            -m[0] * (x2[n-1] - x1[n-1]) / np.hypot(x2[n-1]-x1[n-1],y2[n-1]-y1[n-1])**3 \n",
    "            -m[2] * (x2[n-1] - x3[n-1]) / np.hypot(x2[n-1]-x3[n-1],y2[n-1]-y3[n-1])**3\n",
    "        )\n",
    "        dvy2 = ( \n",
    "            -m[0] * (y2[n-1] - y1[n-1]) / np.hypot(x2[n-1]-x1[n-1],y2[n-1]-y1[n-1])**3 \n",
    "            -m[2] * (y2[n-1] - y3[n-1]) / np.hypot(x2[n-1]-x3[n-1],y2[n-1]-y3[n-1])**3\n",
    "        )\n",
    "\n",
    "        dvx3 = ( \n",
    "            -m[0] * (x3[n-1] - x1[n-1]) / np.hypot(x3[n-1]-x1[n-1],y3[n-1]-y1[n-1])**3 \n",
    "            -m[1] * (x3[n-1] - x2[n-1]) / np.hypot(x3[n-1]-x2[n-1],y3[n-1]-y2[n-1])**3\n",
    "        )\n",
    "        dvy3 = ( \n",
    "            -m[0] * (y3[n-1] - y1[n-1]) / np.hypot(x3[n-1]-x1[n-1],y3[n-1]-y1[n-1])**3 \n",
    "            -m[1] * (y3[n-1] - y2[n-1]) / np.hypot(x3[n-1]-x2[n-1],y3[n-1]-y2[n-1])**3\n",
    "        )\n",
    "        \n",
    "        vx1[i] = vx1[i-1] + dvx1 * dt\n",
    "        vx2[i] = vx2[i-1] + dvx2 * dt\n",
    "        vx3[i] = vx3[i-1] + dvx3 * dt\n",
    "        \n",
    "        x1[i] = x1[i-1] + vx1[i] * dt\n",
    "        x2[i] = x2[i-1] + vx2[i] * dt\n",
    "        x3[i] = x3[i-1] + vx3[i] * dt\n",
    "        \n",
    "        vy1[i] = vy1[i-1] + dvy1 * dt\n",
    "        vy2[i] = vy2[i-1] + dvy2 * dt\n",
    "        vy3[i] = vy3[i-1] + dvy3 * dt\n",
    "        \n",
    "        y1[i] = y1[i-1] + vy1[i] * dt\n",
    "        y2[i] = y2[i-1] + vy2[i] * dt\n",
    "        y3[i] = y3[i-1] + vy3[i] * dt\n",
    "                \n",
    "    return vx,vy,x,y"
   ]
  },
  {
   "cell_type": "code",
   "execution_count": 27,
   "metadata": {},
   "outputs": [
    {
     "name": "stderr",
     "output_type": "stream",
     "text": [
      "/Users/tjwilli/software/anaconda3/lib/python3.7/site-packages/ipykernel_launcher.py:95: UserWarning: Attempting to set identical bottom == top == 0.0 results in singular transformations; automatically expanding.\n"
     ]
    },
    {
     "data": {
      "image/png": "[encoded data removed]",
      "text/plain": [
       "<Figure size 960x480 with 1 Axes>"
      ]
     },
     "metadata": {
      "needs_background": "light"
     },
     "output_type": "display_data"
    }
   ],
   "source": [
    "#Define figure and plots\n",
    "mass = [1,1,1]\n",
    "x0  = [0,4,0]\n",
    "y0  = [0,0,2]\n",
    "vx0 = [0,0,-0.5]\n",
    "vy0 = [0,-.2,0]\n",
    "\n",
    "fname = 'three_body_resonance1.mp4'\n",
    "mass = [10000,1e-10,1]\n",
    "x0 = [0,None,0.5]\n",
    "x0[1] = x0[-1] / 4**(1/3)\n",
    "y0 = [0,0,0]\n",
    "vx0 = [0,0,0]\n",
    "vy0 = [0,-1/np.sqrt(x0[1]),-1/np.sqrt(x0[-1])]\n",
    "vx,vy,x,y = three_body(x0,y0,vx0,vy0,mass,tstop=200,dt=0.01)\n",
    "\n",
    "mmass = np.array(mass) / sum(mass)\n",
    "sizemin = 10\n",
    "size = 500 * mmass\n",
    "size[size <sizemin] = sizemin\n",
    "xCM = (x[0] * mass[0] + x[1] * mass[1] + x[2] * mass[2]) / sum(mass)\n",
    "yCM = (y[0] * mass[0] + y[1] * mass[1] + y[2] * mass[2]) / sum(mass)\n",
    "for i in range(3):\n",
    "    x[i] = x[i] - xCM\n",
    "    y[i] = y[i] - yCM\n",
    "\n",
    "fig = plt.figure()\n",
    "ax1 = plt.gca()\n",
    "orbit1, = ax1.plot( [],[],ls='--',c='blue' )\n",
    "marker1 = ax1.scatter([],[],c='blue',s=size[0],zorder=5)\n",
    "orbit2, = ax1.plot( [],[],ls='--',c='green')\n",
    "marker2 = ax1.scatter([],[],c='green',s=size[1],zorder=6)\n",
    "orbit3, = ax1.plot( [],[],ls='--',c='red' )\n",
    "marker3 = ax1.scatter([],[],c='red',s=size[2],zorder=7)\n",
    "#xtot = np.concatenate((x[0],x[1],x[2]))\n",
    "#ytot = np.concatenate((y[0],y[1],y[2]))\n",
    "#ax1.set_xlim( 1.1*xtot.min(), 1.1*xtot.max())\n",
    "#ax1.set_ylim(1.1*ytot.min(),1.1*ytot.max())\n",
    "ax1.set_xlim(min(x0)-1,max(x0)+1)\n",
    "ax1.set_ylim(min(y0)-1,max(y0)+1)\n",
    "ax1.set_aspect('equal')\n",
    "\n",
    "def init():\n",
    "    orbit1.set_data([], [])\n",
    "    marker1.set_offsets( np.array( [[],[]]).T )\n",
    "    orbit2.set_data([], [])\n",
    "    marker2.set_offsets( np.array( [[],[]]).T )\n",
    "    orbit3.set_data([], [])\n",
    "    marker3.set_offsets( np.array( [[],[]]).T )\n",
    "    return (orbit1,orbit2,orbit3,marker1,marker2,marker3)\n",
    "\n",
    "\n",
    "def animate(i):\n",
    "    orbit1.set_data(x[0][:i],y[0][:i])\n",
    "    marker1.set_offsets(np.array([ [x[0][i]],[y[0][i]] ]).T )\n",
    "    orbit2.set_data(x[1][:i],y[1][:i])\n",
    "    marker2.set_offsets(np.array([ [x[1][i]],[y[1][i]] ]).T )\n",
    "    orbit3.set_data(x[2][:i],y[2][:i])\n",
    "    marker3.set_offsets(np.array([ [x[2][i]],[y[2][i]] ]).T )\n",
    "    \n",
    "    if i:\n",
    "        xmax = max(\n",
    "            [\n",
    "                max(x[0][:i]),\n",
    "                max(x[1][:i]),\n",
    "                max(x[2][:i])\n",
    "            ]\n",
    "        )\n",
    "\n",
    "        xmin = min(\n",
    "            [\n",
    "                min(x[0][:i]),\n",
    "                min(x[1][:i]),\n",
    "                min(x[2][:i])\n",
    "            ]\n",
    "        )\n",
    "\n",
    "        ymax = max(\n",
    "            [\n",
    "                max(y[0][:i]),\n",
    "                max(y[1][:i]),\n",
    "                max(y[2][:i])\n",
    "            ]\n",
    "        )\n",
    "\n",
    "        ymin = min(\n",
    "            [\n",
    "                min(y[0][:i]),\n",
    "                min(y[1][:i]),\n",
    "                min(y[2][:i])\n",
    "            ]\n",
    "        )\n",
    "    \n",
    "        ax1.set_xlim(1.1 * xmin, 1.1 * xmax)\n",
    "        ax1.set_ylim(1.1 * ymin, 1.1 * ymax)\n",
    "    return (orbit1,orbit2,orbit3,marker1,marker2,marker3)    \n",
    "\n",
    "\n",
    "anim = FuncAnimation(fig, animate, init_func=init,\n",
    "                               frames=x[0].size, interval=5, blit=True)\n",
    "\n",
    "anim.save(fname)"
   ]
  },
  {
   "cell_type": "code",
   "execution_count": 39,
   "metadata": {},
   "outputs": [],
   "source": [
    "class ThreeBodyAnimation:\n",
    "    def __init__(self,x1,x2,x3,y1,y2,y3,mass=[],cmframe=True,figsize=(8,5)):\n",
    "        self.__x = [np.array(ix) for ix in [x1,x2,x3]]\n",
    "        self.__y = [np.array(iy) for iy in [y1,y2,y3]]\n",
    "        self.__mass = np.array(mass)\n",
    "        self.cmframe = cmframe\n",
    "        self.figsize = figsize\n",
    "        self.__setup__()\n",
    "\n",
    "        \n",
    "    def __setup__(self):\n",
    "        self.__transform_frame__()\n",
    "        self.__setup_plots__()\n",
    "        \n",
    "    def __get_scatter_size__(self):\n",
    "        sizemin = 10\n",
    "        if self.__mass.size:\n",
    "            mmass = np.array(self.__mass) / self.__mass.sum()\n",
    "            size = 500 * mmass\n",
    "            size[size <sizemin] = sizemin\n",
    "        else:\n",
    "            size = [sizemin,sizemin,sizemin]\n",
    "        return size\n",
    "    \n",
    "    def __transform_frame__(self):\n",
    "        if self.cmframe:\n",
    "            xCM = (self.__x[0] * self.__mass[0] + self.__x[1] * self.__mass[1] + \n",
    "                   self.__x[2] * self.__mass[2]) / sum(self.__mass)\n",
    "            yCM = (self.__y[0] * self.__mass[0] + self.__y[1] * self.__mass[1] + \n",
    "                   self.__y[2] * self.__mass[2]) / sum(self.__mass)\n",
    "            for i in range(len(self.__x)):\n",
    "                self.__x[i] = self.__x[i] - xCM\n",
    "                self.__y[i] = self.__y[i] - yCM\n",
    "    \n",
    "    def __setup_plots__(self):\n",
    "        self.__fig = plt.figure(figsize=self.figsize)\n",
    "        ax1 = plt.gca()\n",
    "        self.__ax1 = ax1\n",
    "        size = self.__get_scatter_size__()\n",
    "        orbit1, = ax1.plot( [],[],ls='--',c='blue' )\n",
    "        marker1 = ax1.scatter([],[],c='blue',s=size[0],zorder=5)\n",
    "        orbit2, = ax1.plot( [],[],ls='--',c='green')\n",
    "        marker2 = ax1.scatter([],[],c='green',s=size[1],zorder=6)\n",
    "        orbit3, = ax1.plot( [],[],ls='--',c='red' )\n",
    "        marker3 = ax1.scatter([],[],c='red',s=size[2],zorder=7)\n",
    "        x0 = [x[i][0] for i in range(3)]\n",
    "        y0 = [y[i][0] for i in range(3)]\n",
    "        ax1.set_xlim(min(x0)-1,max(x0)+1)\n",
    "        ax1.set_ylim(min(y0)-1,max(y0)+1)\n",
    "        ax1.set_aspect('equal')\n",
    "        self.__orbit1 = orbit1\n",
    "        self.__orbit2 = orbit2\n",
    "        self.__orbit3 = orbit3\n",
    "        self.__marker1 = marker1\n",
    "        self.__marker2 = marker2\n",
    "        self.__marker3 = marker3\n",
    "        \n",
    "    def __anim__init__(self):\n",
    "        self.__orbit1.set_data([], [])\n",
    "        self.__marker1.set_offsets( np.array( [[],[]]).T )\n",
    "        self.__orbit2.set_data([], [])\n",
    "        self.__marker2.set_offsets( np.array( [[],[]]).T )\n",
    "        self.__orbit3.set_data([], [])\n",
    "        self.__marker3.set_offsets( np.array( [[],[]]).T )\n",
    "        return (self.__orbit1,self.__orbit2,self.__orbit3,self.__marker1,self.__marker2,self.__marker3)\n",
    "    \n",
    "    def __anim_frame__(self,i):\n",
    "        self.__orbit1.set_data(self.__x[0][:i],self.__y[0][:i])\n",
    "        self.__marker1.set_offsets(np.array([ [self.__x[0][i]],[self.__y[0][i]] ]).T )\n",
    "        self.__orbit2.set_data(self.__x[1][:i],self.__y[1][:i])\n",
    "        self.__marker2.set_offsets(np.array([ [self.__x[1][i]],[self.__y[1][i]] ]).T )\n",
    "        self.__orbit3.set_data(self.__x[2][:i],self.__y[2][:i])\n",
    "        self.__marker3.set_offsets(np.array([ [self.__x[2][i]],[self.__y[2][i]] ]).T )\n",
    "\n",
    "        if i:\n",
    "            xmax = max(\n",
    "                [\n",
    "                    max(self.__x[0][:i]),\n",
    "                    max(self.__x[1][:i]),\n",
    "                    max(self.__x[2][:i])\n",
    "                ]\n",
    "            )\n",
    "\n",
    "            xmin = min(\n",
    "                [\n",
    "                    min(self.__x[0][:i]),\n",
    "                    min(self.__x[1][:i]),\n",
    "                    min(self.__x[2][:i])\n",
    "                ]\n",
    "            )\n",
    "\n",
    "            ymax = max(\n",
    "                [\n",
    "                    max(self.__y[0][:i]),\n",
    "                    max(self.__y[1][:i]),\n",
    "                    max(self.__y[2][:i])\n",
    "                ]\n",
    "            )\n",
    "\n",
    "            ymin = min(\n",
    "                [\n",
    "                    min(self.__y[0][:i]),\n",
    "                    min(self.__y[1][:i]),\n",
    "                    min(self.__y[2][:i])\n",
    "                ]\n",
    "            )\n",
    "\n",
    "            self.__ax1.set_xlim(1.1 * xmin, 1.1 * xmax)\n",
    "            self.__ax1.set_ylim(1.1 * ymin, 1.1 * ymax)\n",
    "        return (self.__orbit1,self.__orbit2,self.__orbit3,self.__marker1,self.__marker2,self.__marker3) \n",
    "    \n",
    "    def run(self,fname=\"animation.mp4\",speed=10):\n",
    "        interval = 21 - speed\n",
    "        if interval <= 0:\n",
    "            print(\"speed parameter must be between 1 and 20\")\n",
    "        anim = FuncAnimation(self.__fig, self.__anim_frame__, init_func=self.__anim__init__,\n",
    "                               frames=self.__x[0].size, interval=interval, blit=True)\n",
    "\n",
    "        anim.save(fname)"
   ]
  },
  {
   "cell_type": "code",
   "execution_count": 40,
   "metadata": {},
   "outputs": [],
   "source": [
    "mass = [1,1,1]\n",
    "x0  = [0,4,0]\n",
    "y0  = [0,0,2]\n",
    "vx0 = [0,0,-0.5]\n",
    "vy0 = [0,-.2,0]\n",
    "vx,vy,x,y = three_body(x0,y0,vx0,vy0,mass,tstop=10,dt=0.01)"
   ]
  },
  {
   "cell_type": "code",
   "execution_count": 41,
   "metadata": {},
   "outputs": [
    {
     "data": {
      "image/png": "[encoded data removed]",
      "text/plain": [
       "<Figure size 960x600 with 1 Axes>"
      ]
     },
     "metadata": {
      "needs_background": "light"
     },
     "output_type": "display_data"
    }
   ],
   "source": [
    "anim = ThreeBodyAnimation(*x,*y,mass)"
   ]
  },
  {
   "cell_type": "code",
   "execution_count": 42,
   "metadata": {},
   "outputs": [
    {
     "ename": "NameError",
     "evalue": "name 'ax1' is not defined",
     "output_type": "error",
     "traceback": [
      "\u001b[0;31m---------------------------------------------------------------------------\u001b[0m",
      "\u001b[0;31mNameError\u001b[0m                                 Traceback (most recent call last)",
      "\u001b[0;32m<ipython-input-42-29d3f47979d9>\u001b[0m in \u001b[0;36m<module>\u001b[0;34m\u001b[0m\n\u001b[0;32m----> 1\u001b[0;31m \u001b[0manim\u001b[0m\u001b[0;34m.\u001b[0m\u001b[0mrun\u001b[0m\u001b[0;34m(\u001b[0m\u001b[0;34m)\u001b[0m\u001b[0;34m\u001b[0m\u001b[0;34m\u001b[0m\u001b[0m\n\u001b[0m",
      "\u001b[0;32m<ipython-input-39-d4130e594073>\u001b[0m in \u001b[0;36mrun\u001b[0;34m(self, fname, speed)\u001b[0m\n\u001b[1;32m    117\u001b[0m                                frames=self.__x[0].size, interval=interval, blit=True)\n\u001b[1;32m    118\u001b[0m \u001b[0;34m\u001b[0m\u001b[0m\n\u001b[0;32m--> 119\u001b[0;31m         \u001b[0manim\u001b[0m\u001b[0;34m.\u001b[0m\u001b[0msave\u001b[0m\u001b[0;34m(\u001b[0m\u001b[0mfname\u001b[0m\u001b[0;34m)\u001b[0m\u001b[0;34m\u001b[0m\u001b[0;34m\u001b[0m\u001b[0m\n\u001b[0m",
      "\u001b[0;32m~/software/anaconda3/lib/python3.7/site-packages/matplotlib/animation.py\u001b[0m in \u001b[0;36msave\u001b[0;34m(self, filename, writer, fps, dpi, codec, bitrate, extra_args, metadata, extra_anim, savefig_kwargs, progress_callback)\u001b[0m\n\u001b[1;32m   1150\u001b[0m                     \u001b[0;32mfor\u001b[0m \u001b[0manim\u001b[0m\u001b[0;34m,\u001b[0m \u001b[0md\u001b[0m \u001b[0;32min\u001b[0m \u001b[0mzip\u001b[0m\u001b[0;34m(\u001b[0m\u001b[0mall_anim\u001b[0m\u001b[0;34m,\u001b[0m \u001b[0mdata\u001b[0m\u001b[0;34m)\u001b[0m\u001b[0;34m:\u001b[0m\u001b[0;34m\u001b[0m\u001b[0;34m\u001b[0m\u001b[0m\n\u001b[1;32m   1151\u001b[0m                         \u001b[0;31m# TODO: See if turning off blit is really necessary\u001b[0m\u001b[0;34m\u001b[0m\u001b[0;34m\u001b[0m\u001b[0;34m\u001b[0m\u001b[0m\n\u001b[0;32m-> 1152\u001b[0;31m                         \u001b[0manim\u001b[0m\u001b[0;34m.\u001b[0m\u001b[0m_draw_next_frame\u001b[0m\u001b[0;34m(\u001b[0m\u001b[0md\u001b[0m\u001b[0;34m,\u001b[0m \u001b[0mblit\u001b[0m\u001b[0;34m=\u001b[0m\u001b[0;32mFalse\u001b[0m\u001b[0;34m)\u001b[0m\u001b[0;34m\u001b[0m\u001b[0;34m\u001b[0m\u001b[0m\n\u001b[0m\u001b[1;32m   1153\u001b[0m                         \u001b[0;32mif\u001b[0m \u001b[0mprogress_callback\u001b[0m \u001b[0;32mis\u001b[0m \u001b[0;32mnot\u001b[0m \u001b[0;32mNone\u001b[0m\u001b[0;34m:\u001b[0m\u001b[0;34m\u001b[0m\u001b[0;34m\u001b[0m\u001b[0m\n\u001b[1;32m   1154\u001b[0m                             \u001b[0mprogress_callback\u001b[0m\u001b[0;34m(\u001b[0m\u001b[0mframe_number\u001b[0m\u001b[0;34m,\u001b[0m \u001b[0mtotal_frames\u001b[0m\u001b[0;34m)\u001b[0m\u001b[0;34m\u001b[0m\u001b[0;34m\u001b[0m\u001b[0m\n",
      "\u001b[0;32m~/software/anaconda3/lib/python3.7/site-packages/matplotlib/animation.py\u001b[0m in \u001b[0;36m_draw_next_frame\u001b[0;34m(self, framedata, blit)\u001b[0m\n\u001b[1;32m   1190\u001b[0m         \u001b[0;31m# post- draw, as well as the drawing of the frame itself.\u001b[0m\u001b[0;34m\u001b[0m\u001b[0;34m\u001b[0m\u001b[0;34m\u001b[0m\u001b[0m\n\u001b[1;32m   1191\u001b[0m         \u001b[0mself\u001b[0m\u001b[0;34m.\u001b[0m\u001b[0m_pre_draw\u001b[0m\u001b[0;34m(\u001b[0m\u001b[0mframedata\u001b[0m\u001b[0;34m,\u001b[0m \u001b[0mblit\u001b[0m\u001b[0;34m)\u001b[0m\u001b[0;34m\u001b[0m\u001b[0;34m\u001b[0m\u001b[0m\n\u001b[0;32m-> 1192\u001b[0;31m         \u001b[0mself\u001b[0m\u001b[0;34m.\u001b[0m\u001b[0m_draw_frame\u001b[0m\u001b[0;34m(\u001b[0m\u001b[0mframedata\u001b[0m\u001b[0;34m)\u001b[0m\u001b[0;34m\u001b[0m\u001b[0;34m\u001b[0m\u001b[0m\n\u001b[0m\u001b[1;32m   1193\u001b[0m         \u001b[0mself\u001b[0m\u001b[0;34m.\u001b[0m\u001b[0m_post_draw\u001b[0m\u001b[0;34m(\u001b[0m\u001b[0mframedata\u001b[0m\u001b[0;34m,\u001b[0m \u001b[0mblit\u001b[0m\u001b[0;34m)\u001b[0m\u001b[0;34m\u001b[0m\u001b[0;34m\u001b[0m\u001b[0m\n\u001b[1;32m   1194\u001b[0m \u001b[0;34m\u001b[0m\u001b[0m\n",
      "\u001b[0;32m~/software/anaconda3/lib/python3.7/site-packages/matplotlib/animation.py\u001b[0m in \u001b[0;36m_draw_frame\u001b[0;34m(self, framedata)\u001b[0m\n\u001b[1;32m   1753\u001b[0m         \u001b[0;31m# Call the func with framedata and args. If blitting is desired,\u001b[0m\u001b[0;34m\u001b[0m\u001b[0;34m\u001b[0m\u001b[0;34m\u001b[0m\u001b[0m\n\u001b[1;32m   1754\u001b[0m         \u001b[0;31m# func needs to return a sequence of any artists that were modified.\u001b[0m\u001b[0;34m\u001b[0m\u001b[0;34m\u001b[0m\u001b[0;34m\u001b[0m\u001b[0m\n\u001b[0;32m-> 1755\u001b[0;31m         \u001b[0mself\u001b[0m\u001b[0;34m.\u001b[0m\u001b[0m_drawn_artists\u001b[0m \u001b[0;34m=\u001b[0m \u001b[0mself\u001b[0m\u001b[0;34m.\u001b[0m\u001b[0m_func\u001b[0m\u001b[0;34m(\u001b[0m\u001b[0mframedata\u001b[0m\u001b[0;34m,\u001b[0m \u001b[0;34m*\u001b[0m\u001b[0mself\u001b[0m\u001b[0;34m.\u001b[0m\u001b[0m_args\u001b[0m\u001b[0;34m)\u001b[0m\u001b[0;34m\u001b[0m\u001b[0;34m\u001b[0m\u001b[0m\n\u001b[0m\u001b[1;32m   1756\u001b[0m         \u001b[0;32mif\u001b[0m \u001b[0mself\u001b[0m\u001b[0;34m.\u001b[0m\u001b[0m_blit\u001b[0m\u001b[0;34m:\u001b[0m\u001b[0;34m\u001b[0m\u001b[0;34m\u001b[0m\u001b[0m\n\u001b[1;32m   1757\u001b[0m             \u001b[0;32mif\u001b[0m \u001b[0mself\u001b[0m\u001b[0;34m.\u001b[0m\u001b[0m_drawn_artists\u001b[0m \u001b[0;32mis\u001b[0m \u001b[0;32mNone\u001b[0m\u001b[0;34m:\u001b[0m\u001b[0;34m\u001b[0m\u001b[0;34m\u001b[0m\u001b[0m\n",
      "\u001b[0;32m<ipython-input-39-d4130e594073>\u001b[0m in \u001b[0;36m__anim_frame__\u001b[0;34m(self, i)\u001b[0m\n\u001b[1;32m    106\u001b[0m             )\n\u001b[1;32m    107\u001b[0m \u001b[0;34m\u001b[0m\u001b[0m\n\u001b[0;32m--> 108\u001b[0;31m             \u001b[0max1\u001b[0m\u001b[0;34m.\u001b[0m\u001b[0mset_xlim\u001b[0m\u001b[0;34m(\u001b[0m\u001b[0;36m1.1\u001b[0m \u001b[0;34m*\u001b[0m \u001b[0mxmin\u001b[0m\u001b[0;34m,\u001b[0m \u001b[0;36m1.1\u001b[0m \u001b[0;34m*\u001b[0m \u001b[0mxmax\u001b[0m\u001b[0;34m)\u001b[0m\u001b[0;34m\u001b[0m\u001b[0;34m\u001b[0m\u001b[0m\n\u001b[0m\u001b[1;32m    109\u001b[0m             \u001b[0max1\u001b[0m\u001b[0;34m.\u001b[0m\u001b[0mset_ylim\u001b[0m\u001b[0;34m(\u001b[0m\u001b[0;36m1.1\u001b[0m \u001b[0;34m*\u001b[0m \u001b[0mymin\u001b[0m\u001b[0;34m,\u001b[0m \u001b[0;36m1.1\u001b[0m \u001b[0;34m*\u001b[0m \u001b[0mymax\u001b[0m\u001b[0;34m)\u001b[0m\u001b[0;34m\u001b[0m\u001b[0;34m\u001b[0m\u001b[0m\n\u001b[1;32m    110\u001b[0m         \u001b[0;32mreturn\u001b[0m \u001b[0;34m(\u001b[0m\u001b[0mself\u001b[0m\u001b[0;34m.\u001b[0m\u001b[0m__orbit1\u001b[0m\u001b[0;34m,\u001b[0m\u001b[0mself\u001b[0m\u001b[0;34m.\u001b[0m\u001b[0m__orbit2\u001b[0m\u001b[0;34m,\u001b[0m\u001b[0mself\u001b[0m\u001b[0;34m.\u001b[0m\u001b[0m__orbit3\u001b[0m\u001b[0;34m,\u001b[0m\u001b[0mself\u001b[0m\u001b[0;34m.\u001b[0m\u001b[0m__marker1\u001b[0m\u001b[0;34m,\u001b[0m\u001b[0mself\u001b[0m\u001b[0;34m.\u001b[0m\u001b[0m__marker2\u001b[0m\u001b[0;34m,\u001b[0m\u001b[0mself\u001b[0m\u001b[0;34m.\u001b[0m\u001b[0m__marker3\u001b[0m\u001b[0;34m)\u001b[0m\u001b[0;34m\u001b[0m\u001b[0;34m\u001b[0m\u001b[0m\n",
      "\u001b[0;31mNameError\u001b[0m: name 'ax1' is not defined"
     ]
    }
   ],
   "source": [
    "anim.run()"
   ]
  },
  {
   "cell_type": "code",
   "execution_count": 49,
   "metadata": {},
   "outputs": [],
   "source": [
    "def check_hit_enemy(my_x,my_y,enemy_x,enemy_y,velocity,angle):\n",
    "    G = -9.8\n",
    "    angle_rad = angle * 2 * np.pi / 360\n",
    "    vel_x0 = velocity * np.cos(angle_rad)\n",
    "    vel_y0 = velocity * np.sin(angle_rad)\n",
    "    time_at_enemy_x = (enemy_x - my_x) / (vel_x0)\n",
    "    y_at_time = my_y + vel_y0 * time_at_enemy_x + 0.5 * G * time_at_enemy_x * time_at_enemy_x\n",
    "    return ( y_at_time - enemy_y)\n",
    "\n"
   ]
  },
  {
   "cell_type": "code",
   "execution_count": 50,
   "metadata": {},
   "outputs": [
    {
     "data": {
      "text/plain": [
       "-0.19712944097275908"
      ]
     },
     "execution_count": 50,
     "metadata": {},
     "output_type": "execute_result"
    }
   ],
   "source": [
    "check_hit_enemy(-100,0,100,-100,90,-20) "
   ]
  },
  {
   "cell_type": "code",
   "execution_count": 51,
   "metadata": {},
   "outputs": [
    {
     "data": {
      "text/plain": [
       "-6.6343284832153"
      ]
     },
     "execution_count": 51,
     "metadata": {},
     "output_type": "execute_result"
    }
   ],
   "source": [
    "check_hit_enemy(0,0,10,10,45,20)"
   ]
  },
  {
   "cell_type": "code",
   "execution_count": null,
   "metadata": {},
   "outputs": [],
   "source": []
  },
  {
   "cell_type": "code",
   "execution_count": 23,
   "metadata": {},
   "outputs": [
    {
     "data": {
      "text/plain": [
       "1.8898815748423097"
      ]
     },
     "execution_count": 23,
     "metadata": {},
     "output_type": "execute_result"
    }
   ],
   "source": [
    "0.25**(1/3)*3"
   ]
  },
  {
   "cell_type": "code",
   "execution_count": 25,
   "metadata": {},
   "outputs": [
    {
     "data": {
      "text/plain": [
       "5.196152422706632"
      ]
     },
     "execution_count": 25,
     "metadata": {},
     "output_type": "execute_result"
    }
   ],
   "source": [
    "np.sqrt(3**3)"
   ]
  },
  {
   "cell_type": "code",
   "execution_count": 24,
   "metadata": {},
   "outputs": [
    {
     "data": {
      "text/plain": [
       "2.596258532773653"
      ]
     },
     "execution_count": 24,
     "metadata": {},
     "output_type": "execute_result"
    }
   ],
   "source": [
    "np.sqrt(1.889**3)"
   ]
  },
  {
   "cell_type": "code",
   "execution_count": null,
   "metadata": {},
   "outputs": [],
   "source": []
  }
 ],
 "metadata": {
  "kernelspec": {
   "display_name": "Python 3",
   "language": "python",
   "name": "python3"
  },
  "language_info": {
   "codemirror_mode": {
    "name": "ipython",
    "version": 3
   },
   "file_extension": ".py",
   "mimetype": "text/x-python",
   "name": "python",
   "nbconvert_exporter": "python",
   "pygments_lexer": "ipython3",
   "version": "3.7.6"
  }
 },
 "nbformat": 4,
 "nbformat_minor": 4
}
