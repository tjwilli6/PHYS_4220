{
 "cells": [
  {
   "cell_type": "code",
   "execution_count": null,
   "metadata": {},
   "outputs": [],
   "source": [
    "import numpy as np\n",
    "import matplotlib.pyplot as plt\n",
    "from subprocess import Popen\n",
    "from IPython.display import Video #For displaying animations\n",
    "import time\n",
    "plt.style.use('/Users/tjwilli/jupyter.mplstyle')"
   ]
  },
  {
   "cell_type": "code",
   "execution_count": null,
   "metadata": {},
   "outputs": [],
   "source": [
    "def physical_pend(theta0,Q=.1,wd=1,A=1,dt=0.01,num_cycles=10):\n",
    "    t = np.arange(0,num_cycles * 2 * np.pi,dt)\n",
    "    #Arrays to collect theta and w\n",
    "    theta = np.zeros_like(t)\n",
    "    omega = np.zeros_like(t)\n",
    "    #Start with theta at 1 degree\n",
    "    theta[0] = np.deg2rad(theta0)\n",
    "\n",
    "    for i in range(1,t.size):\n",
    "        omega[i] = omega[i-1] - np.sin( theta[i-1] )  * dt - Q * omega[i-1] * dt + A * np.sin( wd * t[i] ) * dt\n",
    "        theta[i] = theta[i-1] + omega[i] * dt\n",
    "        \n",
    "        #Keep angle within -pi,pi\n",
    "        if 1:\n",
    "            if ( theta[i] < -np.pi ):\n",
    "                theta[i] += 2 * np.pi\n",
    "            elif ( theta[i] > np.pi ):\n",
    "                theta[i] -= 2 * np.pi\n",
    "\n",
    "    return t,omega,theta"
   ]
  },
  {
   "cell_type": "markdown",
   "metadata": {},
   "source": [
    "### Chaos"
   ]
  },
  {
   "cell_type": "code",
   "execution_count": null,
   "metadata": {},
   "outputs": [],
   "source": [
    "t0 = 20\n",
    "wd = 2/3\n",
    "A = .4\n",
    "Q = 0.1\n",
    "\n",
    "num_cycles=30\n",
    "t,w,theta = physical_pend(t0,Q=Q,A=A,wd=wd,num_cycles=num_cycles,dt=0.01)\n",
    "\n",
    "plt.plot( t,theta,c='blue' )\n",
    "plt.xlabel(r'$\\Omega t$')\n",
    "plt.ylabel(r'$\\theta$')\n",
    "plt.title('Amplitude vs time')\n",
    "#plt.xlim(200*np.pi*2,220*np.pi*2)"
   ]
  },
  {
   "cell_type": "code",
   "execution_count": null,
   "metadata": {},
   "outputs": [],
   "source": [
    "Video(\"chaotic_pend.mp4\")"
   ]
  },
  {
   "cell_type": "markdown",
   "metadata": {},
   "source": [
    "### Importance of initial conditions"
   ]
  },
  {
   "cell_type": "code",
   "execution_count": null,
   "metadata": {},
   "outputs": [],
   "source": [
    "t0 = 20\n",
    "wd = 2/3\n",
    "A = .3\n",
    "Q = 0.1\n",
    "t,w,theta = physical_pend(t0,Q=Q,A=A,wd=wd,num_cycles=30,dt=0.01)\n",
    "t,w,theta1 = physical_pend(t0+1,Q=Q,A=A,wd=wd,num_cycles=30,dt=0.01)"
   ]
  },
  {
   "cell_type": "code",
   "execution_count": null,
   "metadata": {},
   "outputs": [],
   "source": [
    "plt.plot(t,theta,c='blue',alpha=.3)\n",
    "plt.plot(t,theta1,c='red',alpha=.3)\n",
    "plt.xlabel(r'$\\Omega t$')\n",
    "plt.ylabel(r'$\\theta$')"
   ]
  },
  {
   "cell_type": "code",
   "execution_count": null,
   "metadata": {},
   "outputs": [],
   "source": [
    "plt.plot(t,np.abs(theta-theta1),c='blue')\n",
    "plt.xlabel(r'$\\Omega t$')\n",
    "plt.ylabel(r'$|\\theta_1(t)-\\theta_0(t)|$')\n",
    "plt.yscale('log')"
   ]
  },
  {
   "cell_type": "code",
   "execution_count": null,
   "metadata": {},
   "outputs": [],
   "source": [
    "Video( \"initial_cond_same.mp4\" )"
   ]
  },
  {
   "cell_type": "code",
   "execution_count": null,
   "metadata": {},
   "outputs": [],
   "source": [
    "t0 = 20\n",
    "wd = 2/3\n",
    "A = 1.3\n",
    "Q = 0.1\n",
    "t,w,theta = physical_pend(t0,Q=Q,A=A,wd=wd,num_cycles=30,dt=0.01)\n",
    "t,w,theta1 = physical_pend(t0+1,Q=Q,A=A,wd=wd,num_cycles=30,dt=0.01)"
   ]
  },
  {
   "cell_type": "code",
   "execution_count": null,
   "metadata": {},
   "outputs": [],
   "source": [
    "plt.plot(t,theta,c='blue')\n",
    "plt.plot(t,theta1,c='red')\n",
    "plt.xlabel(r'$\\Omega t$')\n",
    "plt.ylabel(r'$\\theta$')"
   ]
  },
  {
   "cell_type": "code",
   "execution_count": null,
   "metadata": {},
   "outputs": [],
   "source": [
    "plt.plot(t,np.abs(theta-theta1),c='blue')\n",
    "plt.xlabel(r'$\\Omega t$')\n",
    "plt.ylabel(r'$|\\theta_1(t)-\\theta_0(t)|$')\n",
    "plt.yscale('log')\n",
    "plt.axhline( 2 * np.pi, c='k',ls='--',label=r'$2\\pi$' )\n",
    "plt.legend()"
   ]
  },
  {
   "cell_type": "code",
   "execution_count": null,
   "metadata": {},
   "outputs": [],
   "source": [
    "Video( \"initial_cond_diverge.mp4\" )"
   ]
  },
  {
   "cell_type": "code",
   "execution_count": null,
   "metadata": {},
   "outputs": [],
   "source": [
    "t0 = 20\n",
    "wd = 2/3\n",
    "A = 1.3\n",
    "Q = 0.1\n",
    "t,w,theta = physical_pend(t0,Q=Q,A=A,wd=wd,num_cycles=30,dt=0.01)\n",
    "plt.plot(t,theta,c='blue')\n",
    "plt.xlabel(r'$\\Omega t$')\n",
    "plt.ylabel(r'$\\theta$')"
   ]
  },
  {
   "cell_type": "markdown",
   "metadata": {},
   "source": [
    "### Phase space"
   ]
  },
  {
   "cell_type": "markdown",
   "metadata": {},
   "source": [
    "#### Simple pendulum"
   ]
  },
  {
   "cell_type": "code",
   "execution_count": null,
   "metadata": {},
   "outputs": [],
   "source": [
    "Video( \"phase_space_simple.mp4\" )"
   ]
  },
  {
   "cell_type": "markdown",
   "metadata": {},
   "source": [
    "#### Damped"
   ]
  },
  {
   "cell_type": "code",
   "execution_count": null,
   "metadata": {},
   "outputs": [],
   "source": [
    "Video( \"phase_space_damped.mp4\" )"
   ]
  },
  {
   "cell_type": "markdown",
   "metadata": {},
   "source": [
    "#### Physical"
   ]
  },
  {
   "cell_type": "code",
   "execution_count": null,
   "metadata": {},
   "outputs": [],
   "source": [
    "Video( \"phase_space_driven.mp4\" )"
   ]
  },
  {
   "cell_type": "code",
   "execution_count": null,
   "metadata": {},
   "outputs": [],
   "source": [
    "Video( \"phase_space_chaotic.mp4\" )"
   ]
  },
  {
   "cell_type": "code",
   "execution_count": null,
   "metadata": {},
   "outputs": [],
   "source": [
    "t0 = 20\n",
    "wd = 2/3\n",
    "A = 1.3\n",
    "Q = 0.1\n",
    "t,w,theta = physical_pend(t0,Q=Q,A=A,wd=wd,num_cycles=30,dt=0.01)\n",
    "plt.plot(t,theta,c='blue')\n",
    "plt.xlabel(r'$\\Omega t$')\n",
    "plt.ylabel(r'$\\theta$')"
   ]
  },
  {
   "cell_type": "markdown",
   "metadata": {},
   "source": [
    "# Poincarre"
   ]
  },
  {
   "cell_type": "code",
   "execution_count": null,
   "metadata": {},
   "outputs": [],
   "source": [
    "Video( \"poincarre_simple.mp4\" )"
   ]
  },
  {
   "cell_type": "code",
   "execution_count": null,
   "metadata": {},
   "outputs": [],
   "source": [
    "#Input conditions\n",
    "t0 = 20\n",
    "wd = 2/3\n",
    "A = 1.3\n",
    "Q = 0.1\n",
    "#Solve numerically\n",
    "t,w,theta = physical_pend(t0,Q=Q,A=A,wd=wd,num_cycles=10000,dt=0.01)\n",
    "#Period\n",
    "T = 2 * np.pi / wd\n",
    "w_inds = np.where( t%T < 0.01 )\n",
    "plt.scatter( w[w_inds],theta[w_inds] )\n",
    "plt.xlabel( r'$\\omega$' )\n",
    "plt.ylabel( r'$\\theta$' )"
   ]
  },
  {
   "cell_type": "code",
   "execution_count": null,
   "metadata": {},
   "outputs": [],
   "source": [
    "t0 = 0\n",
    "wd = 2/3\n",
    "A = 2.5\n",
    "Q = 0.1\n",
    "\n",
    "T = 2 * np.pi / wd\n",
    "t,w,theta = physical_pend(t0,Q=Q,A=A,wd=wd,num_cycles=1000,dt=0.01)\n",
    "\n",
    "#indices of \"t\" were t = nT\n",
    "w_inds = np.where( t%T < 0.01 )\n",
    "plt.scatter( w[w_inds],theta[w_inds] )\n",
    "plt.xlabel( r'$\\omega$' )\n",
    "plt.ylabel( r'$\\theta$' )"
   ]
  },
  {
   "cell_type": "code",
   "execution_count": null,
   "metadata": {},
   "outputs": [],
   "source": [
    "plt.plot(t,theta)\n",
    "plt.xlim(0,200)"
   ]
  },
  {
   "cell_type": "markdown",
   "metadata": {},
   "source": [
    "### Route to chaos: Period doubling"
   ]
  },
  {
   "cell_type": "code",
   "execution_count": null,
   "metadata": {},
   "outputs": [],
   "source": [
    "Q = .8\n",
    "Q = .75 #p2 \n",
    "Q = .52 #p4\n",
    "Q = .505 #p8\n",
    "#Q = .5 #chaos\n",
    "A = 1.5\n",
    "wd = 2/3\n",
    "dt = 1e-2\n",
    "t,w,theta = physical_pend(0,Q,wd,A,dt,300)\n",
    "\n",
    "plt.plot(t,theta)\n",
    "plt.xlim(200*2*np.pi,220*2*np.pi)"
   ]
  },
  {
   "cell_type": "markdown",
   "metadata": {},
   "source": [
    "### Route to chaos: period doubling"
   ]
  },
  {
   "cell_type": "code",
   "execution_count": null,
   "metadata": {},
   "outputs": [],
   "source": [
    "Q = 1\n",
    "#Q = .6 #p2\n",
    "#Q = .51 #p4\n",
    "Q = .507409 #p8?\n",
    "A = 1.5\n",
    "#Q = 0; A = 0\n",
    "dt = 1e-5\n",
    "t,omega,theta = physical_pend( 10,wd=2/3,A=A,Q=Q,num_cycles=300)\n",
    "plt.plot(t,theta)\n",
    "plt.xlim(220*2*np.pi,240*2*np.pi)\n",
    "#plt.ylim(2)"
   ]
  },
  {
   "cell_type": "code",
   "execution_count": null,
   "metadata": {},
   "outputs": [],
   "source": [
    "def autocorr(array,offset):\n",
    "    n = int(offset)\n",
    "    if n == 0:\n",
    "        a1 = array\n",
    "        a2 = array\n",
    "    else:\n",
    "        a1 = array[:-n] - array.mean()\n",
    "        a2 = array[n:] - array.mean()\n",
    "    return np.dot(a1,a2) / ( array.size - n )"
   ]
  },
  {
   "cell_type": "code",
   "execution_count": null,
   "metadata": {},
   "outputs": [],
   "source": [
    "acorr = [autocorr(theta[nskip:],ioff) for ioff in np.arange(0,t.size,1e-5/dt) ]"
   ]
  },
  {
   "cell_type": "code",
   "execution_count": null,
   "metadata": {},
   "outputs": [],
   "source": [
    "plt.plot(acorr/acorr[0])"
   ]
  },
  {
   "cell_type": "code",
   "execution_count": null,
   "metadata": {},
   "outputs": [],
   "source": [
    "t.size"
   ]
  },
  {
   "cell_type": "code",
   "execution_count": null,
   "metadata": {},
   "outputs": [],
   "source": [
    "1/dt"
   ]
  },
  {
   "cell_type": "code",
   "execution_count": null,
   "metadata": {},
   "outputs": [],
   "source": []
  }
 ],
 "metadata": {
  "kernelspec": {
   "display_name": "Python 3",
   "language": "python",
   "name": "python3"
  },
  "language_info": {
   "codemirror_mode": {
    "name": "ipython",
    "version": 3
   },
   "file_extension": ".py",
   "mimetype": "text/x-python",
   "name": "python",
   "nbconvert_exporter": "python",
   "pygments_lexer": "ipython3",
   "version": "3.7.6"
  }
 },
 "nbformat": 4,
 "nbformat_minor": 4
}
