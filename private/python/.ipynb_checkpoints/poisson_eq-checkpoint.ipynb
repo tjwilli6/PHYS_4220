{
 "cells": [
  {
   "cell_type": "code",
   "execution_count": null,
   "metadata": {},
   "outputs": [],
   "source": [
    "import numpy as np\n",
    "from mpl_toolkits import mplot3d\n",
    "import matplotlib.pyplot as plt\n",
    "from IPython.display import Video\n",
    "import time\n",
    "plt.style.use(\"/Users/tjwilli/jupyter.mplstyle\")"
   ]
  },
  {
   "cell_type": "code",
   "execution_count": null,
   "metadata": {},
   "outputs": [],
   "source": [
    "def chg_dens(i,j,k,i0,j0,k0,dl,Q=1):\n",
    "    if (i==i0) and (j==j0) and (k==k0):\n",
    "        return Q / dl**3\n",
    "    return 0"
   ]
  },
  {
   "cell_type": "code",
   "execution_count": null,
   "metadata": {},
   "outputs": [],
   "source": [
    "L = 4\n",
    "dl = 0.2\n",
    "x = y = z = np.arange(-L/2,L/2,dl)\n",
    "v_old = np.zeros( (x.size,y.size,z.size) )\n",
    "v_new = np.zeros_like(v_old)\n",
    "#Boundary conditions\n",
    "v_old[0,:,:] = 0\n",
    "v_old[-1,:,:] = 0\n",
    "v_old[:,0,:] = 0\n",
    "v_old[:,-1,:] = 0\n",
    "v_old[:,:,0] = 0\n",
    "v_old[:,:,-1] = 0\n",
    "\n",
    "v_new[:,:,:] = v_old[:,:,:]\n",
    "\n",
    "i0 = j0 = k0 = int(np.ceil((L/2) / dl))"
   ]
  },
  {
   "cell_type": "code",
   "execution_count": null,
   "metadata": {},
   "outputs": [],
   "source": [
    "tstart = time.time()\n",
    "deltaV = np.inf\n",
    "dV = []\n",
    "n = 0\n",
    "while deltaV > 1e-5:\n",
    "    deltaV = 0\n",
    "    for i in range(1,x.size-1):\n",
    "        for j in range(1,y.size-1):\n",
    "            for k in range(1,z.size-1):\n",
    "                v_new[i,j,k] = 1/6 * (\n",
    "                    v_old[i+1,j,k] + v_new[i-1,j,k] +\n",
    "                    v_old[i,j+1,k] + v_new[i,j-1,k] + \n",
    "                    v_old[i,j,k+1] + v_new[i,j,k-1] + \n",
    "                    chg_dens(i,j,k,i0,j0,k0,dl,1) * dl**2\n",
    "                )\n",
    "    deltaV = np.mean( np.abs(v_new-v_old) )\n",
    "    #dV.append(deltaV)\n",
    "    v_old[:,:,:] = v_new[:,:,:]\n",
    "    n+=1\n",
    "tstop = time.time()\n",
    "print(\"{:.1f} seconds for {} iterations\".format(tstop-tstart,n))"
   ]
  },
  {
   "cell_type": "code",
   "execution_count": null,
   "metadata": {},
   "outputs": [],
   "source": [
    "vxy = v_new.sum( (2) )\n",
    "cs=plt.contour(vxy,extent=[x.min(),x.max(),y.min(),y.max()],levels=10)\n",
    "#plt.clabel(cs)\n",
    "plt.gca().set_aspect('equal')"
   ]
  },
  {
   "cell_type": "code",
   "execution_count": null,
   "metadata": {},
   "outputs": [],
   "source": [
    "Ex = np.zeros_like(vxy)\n",
    "Ey = np.zeros_like(vxy)\n",
    "\n",
    "for i in range(1,x.size-1,1):\n",
    "    for j in range(1,y.size-1,1):\n",
    "        if i==i0 and j==j0:\n",
    "            continue\n",
    "        Ex[i,j] = -(vxy[i+1,j] - vxy[i-1,j]) / (2*dl)\n",
    "        Ey[i,j] = -(vxy[i,j+1] - vxy[i,j-1]) / (2*dl)\n",
    "        mag = np.hypot(Ex[i,j],Ey[i,j])\n",
    "        scale = 50\n",
    "        arrow = plt.arrow(x[i],y[j],Ex[i,j]/scale,Ey[i,j]/scale,width=0.013,facecolor='green',edgecolor='k')\n",
    "        plt.gca().add_artist(arrow)\n",
    "plt.xlim(-L/2,L/2)\n",
    "plt.ylim(-L/2,L/2)\n",
    "plt.gca().set_aspect('equal')"
   ]
  },
  {
   "cell_type": "code",
   "execution_count": null,
   "metadata": {},
   "outputs": [],
   "source": [
    "plt.plot(x[i0+1:],v_new[i0+1:,j0,k0])\n",
    "plt.plot(x[i0+1:],1/x[i0+1:] / 4 / np.pi)"
   ]
  },
  {
   "cell_type": "markdown",
   "metadata": {},
   "source": [
    "## Spherical shell"
   ]
  },
  {
   "cell_type": "code",
   "execution_count": null,
   "metadata": {},
   "outputs": [],
   "source": [
    "def chg_dens(x,y,R,dl,Q=1):\n",
    "    lam = Q / (2 * np.pi * R)\n",
    "    if np.abs( np.linalg.norm( (x,y) ) - R ) <= dl/2:\n",
    "        return lam / dl**2\n",
    "    return 0"
   ]
  },
  {
   "cell_type": "code",
   "execution_count": null,
   "metadata": {},
   "outputs": [],
   "source": [
    "L = 1\n",
    "dl = 0.05\n",
    "R = 0.25\n",
    "x = y = np.arange(-L/2,L/2,dl)\n",
    "\n",
    "v_old = np.zeros( (x.size,y.size) )\n",
    "v_new = np.zeros_like(v_old)\n",
    "#Boundary conditions\n",
    "v_old[0,:] = 0\n",
    "v_old[-1,:] = 0\n",
    "v_old[:,0] = 0\n",
    "v_old[:,-1] = 0\n",
    "\n",
    "v_new[:,:] = v_old[:,:]\n",
    "\n",
    "for i in range(x.size):\n",
    "    for j in range(y.size):\n",
    "        q = chg_dens(x[i],y[j],R,dl)\n",
    "        if q:\n",
    "            plt.scatter(x[i],y[j],c=\"0.\",cmap='viridis')\n",
    "plt.gca().set_aspect('equal')"
   ]
  },
  {
   "cell_type": "code",
   "execution_count": null,
   "metadata": {},
   "outputs": [],
   "source": [
    "tstart = time.time()\n",
    "deltaV = np.inf\n",
    "dV = []\n",
    "n = 0\n",
    "while deltaV > 1e-5:\n",
    "    deltaV = 0\n",
    "    for i in range(1,x.size-1):\n",
    "        for j in range(1,y.size-1):\n",
    "            v_new[i,j] = 1/6 * (\n",
    "                v_old[i+1,j] + v_new[i-1,j] +\n",
    "                v_old[i,j+1] + v_new[i,j-1] + \n",
    "                v_old[i,j] + v_new[i,j] + \n",
    "                chg_dens(x[i],y[j],R,dl) * dl**2\n",
    "            )\n",
    "    deltaV = np.mean( np.abs(v_new-v_old) )\n",
    "    #dV.append(deltaV)\n",
    "    v_old[:,:] = v_new[:,:]\n",
    "    n+=1\n",
    "tstop = time.time()\n",
    "print(\"{:.1f} seconds for {} iterations\".format(tstop-tstart,n))"
   ]
  },
  {
   "cell_type": "code",
   "execution_count": null,
   "metadata": {},
   "outputs": [],
   "source": [
    "cs=plt.contour(v_new,extent=[x.min(),x.max(),y.min(),y.max()],levels=20)\n",
    "plt.gca().set_aspect('equal')\n",
    "plt.colorbar()"
   ]
  },
  {
   "cell_type": "code",
   "execution_count": null,
   "metadata": {},
   "outputs": [],
   "source": [
    "Ex = np.zeros_like(v_new)\n",
    "Ey = np.zeros_like(v_new)\n",
    "\n",
    "for i in range(1,x.size-1,2):\n",
    "    for j in range(1,y.size-1,2):\n",
    "        Ex[i,j] = -(v_new[i+1,j] - v_new[i-1,j]) / (2*dl)\n",
    "        Ey[i,j] = -(v_new[i,j+1] - v_new[i,j-1]) / (2*dl)\n",
    "        mag = np.hypot(Ex[i,j],Ey[i,j])\n",
    "        scale = 100\n",
    "        arrow = plt.arrow(x[i],y[j],Ex[i,j]/scale,Ey[i,j]/scale,width=0.013,facecolor='green',edgecolor='k')\n",
    "        plt.gca().add_artist(arrow)\n",
    "plt.xlim(-L/2,L/2)\n",
    "plt.ylim(-L/2,L/2)\n",
    "plt.gca().set_aspect('equal')"
   ]
  },
  {
   "cell_type": "code",
   "execution_count": null,
   "metadata": {},
   "outputs": [],
   "source": [
    "i0=j0=k0 = 10\n",
    "plt.plot(x[i0+1:],v_new[i0+1:,j0])"
   ]
  },
  {
   "cell_type": "markdown",
   "metadata": {},
   "source": [
    "## Asymm shell"
   ]
  },
  {
   "cell_type": "code",
   "execution_count": null,
   "metadata": {},
   "outputs": [],
   "source": [
    "def chg_dens(x,y,R,dl,Q=1):\n",
    "    lam = Q / (2 * np.pi * R) * x / np.hypot(x,y) #times cos(phi)\n",
    "    if np.abs( np.linalg.norm( (x,y) ) - R ) <= dl/2:\n",
    "        return lam / dl**2\n",
    "    return 0"
   ]
  },
  {
   "cell_type": "code",
   "execution_count": null,
   "metadata": {},
   "outputs": [],
   "source": [
    "L = 2\n",
    "dl = 0.05\n",
    "R = 0.25\n",
    "x = y = np.arange(-L/2,L/2,dl)\n",
    "\n",
    "v_old = np.zeros( (x.size,y.size) )\n",
    "v_new = np.zeros_like(v_old)\n",
    "#Boundary conditions\n",
    "v_old[0,:] = 0\n",
    "v_old[-1,:] = 0\n",
    "v_old[:,0] = 0\n",
    "v_old[:,-1] = 0\n",
    "\n",
    "v_new[:,:] = v_old[:,:]\n",
    "\n",
    "chdens = []\n",
    "for i in range(x.size):\n",
    "    for j in range(y.size):\n",
    "        q = chg_dens(x[i],y[j],R,dl)\n",
    "        chdens.append(q)\n",
    "chdens = np.array(chdens)\n",
    "color = (chdens - chdens.min())/(chdens.max()-chdens.min())\n",
    "n = 0\n",
    "xplot = []\n",
    "yplot = []\n",
    "c = []\n",
    "for i in range(x.size):\n",
    "    for j in range(y.size):\n",
    "        q = chdens[n]\n",
    "        if q:\n",
    "            xplot.append(x[i])\n",
    "            yplot.append(y[j])\n",
    "            c.append(color[n])\n",
    "        n+=1\n",
    "c=plt.scatter(xplot,yplot,c=c,cmap='RdBu_r')\n",
    "plt.gca().set_aspect('equal')\n",
    "plt.colorbar(c)"
   ]
  },
  {
   "cell_type": "code",
   "execution_count": null,
   "metadata": {},
   "outputs": [],
   "source": [
    "tstart = time.time()\n",
    "deltaV = np.inf\n",
    "dV = []\n",
    "n = 0\n",
    "while deltaV > 1e-5:\n",
    "    deltaV = 0\n",
    "    for i in range(1,x.size-1):\n",
    "        for j in range(1,y.size-1):\n",
    "            v_new[i,j] = 1/6 * (\n",
    "                v_old[i+1,j] + v_new[i-1,j] +\n",
    "                v_old[i,j+1] + v_new[i,j-1] + \n",
    "                v_old[i,j] + v_new[i,j] + \n",
    "                chg_dens(x[i],y[j],R,dl) * dl**2\n",
    "            )\n",
    "    deltaV = np.mean( np.abs(v_new-v_old) )\n",
    "    #dV.append(deltaV)\n",
    "    v_old[:,:] = v_new[:,:]\n",
    "    n+=1\n",
    "tstop = time.time()\n",
    "print(\"{:.1f} seconds for {} iterations\".format(tstop-tstart,n))"
   ]
  },
  {
   "cell_type": "code",
   "execution_count": null,
   "metadata": {},
   "outputs": [],
   "source": [
    "cs=plt.contour(v_new.T,extent=[x.min(),x.max(),y.min(),y.max()],origin='lower',levels=20,cmap='RdBu_r')\n",
    "circ = plt.Circle(xy=(0,0),radius=R,facecolor='None',edgecolor='k')\n",
    "plt.gca().add_artist(circ)\n",
    "plt.gca().set_aspect('equal')\n",
    "plt.colorbar()"
   ]
  },
  {
   "cell_type": "code",
   "execution_count": null,
   "metadata": {},
   "outputs": [],
   "source": [
    "Ex = np.zeros_like(v_new)\n",
    "Ey = np.zeros_like(v_new)\n",
    "\n",
    "for i in range(1,x.size-1,2):\n",
    "    for j in range(1,y.size-1,2):\n",
    "        Ex[i,j] = -(v_new[i+1,j] - v_new[i-1,j]) / (2*dl)\n",
    "        Ey[i,j] = -(v_new[i,j+1] - v_new[i,j-1]) / (2*dl)\n",
    "        mag = np.hypot(Ex[i,j],Ey[i,j])\n",
    "        scale = 100\n",
    "        arrow = plt.arrow(x[i],y[j],Ex[i,j]/scale,Ey[i,j]/scale,width=0.013,facecolor='green',edgecolor='k')\n",
    "        plt.gca().add_artist(arrow)\n",
    "plt.xlim(-L/2,L/2)\n",
    "plt.ylim(-L/2,L/2)\n",
    "plt.gca().set_aspect('equal')"
   ]
  },
  {
   "cell_type": "code",
   "execution_count": null,
   "metadata": {},
   "outputs": [],
   "source": [
    "def chg_dens(x,y,R,dl,Q=1):\n",
    "    phi = np.arctan2(y,x)\n",
    "    lam = Q / (2 * np.pi * R) * np.cos(2*phi)  #times cos(phi)\n",
    "    if np.abs( np.linalg.norm( (x,y) ) - R ) <= dl/2:\n",
    "        return lam / dl**2\n",
    "    return 0"
   ]
  },
  {
   "cell_type": "code",
   "execution_count": null,
   "metadata": {},
   "outputs": [],
   "source": [
    "L = 2\n",
    "dl = 0.05\n",
    "R = 0.25\n",
    "x = y = np.arange(-L/2,L/2,dl)\n",
    "\n",
    "v_old = np.zeros( (x.size,y.size) )\n",
    "v_new = np.zeros_like(v_old)\n",
    "#Boundary conditions\n",
    "v_old[0,:] = 0\n",
    "v_old[-1,:] = 0\n",
    "v_old[:,0] = 0\n",
    "v_old[:,-1] = 0\n",
    "\n",
    "v_new[:,:] = v_old[:,:]\n",
    "\n",
    "chdens = []\n",
    "for i in range(x.size):\n",
    "    for j in range(y.size):\n",
    "        q = chg_dens(x[i],y[j],R,dl)\n",
    "        chdens.append(q)\n",
    "chdens = np.array(chdens)\n",
    "color = (chdens - chdens.min())/(chdens.max()-chdens.min())\n",
    "n = 0\n",
    "xplot = []\n",
    "yplot = []\n",
    "c = []\n",
    "for i in range(x.size):\n",
    "    for j in range(y.size):\n",
    "        q = chdens[n]\n",
    "        if q:\n",
    "            xplot.append(x[i])\n",
    "            yplot.append(y[j])\n",
    "            c.append(color[n])\n",
    "        n+=1\n",
    "c=plt.scatter(xplot,yplot,c=c,cmap='RdBu_r')\n",
    "plt.gca().set_aspect('equal')\n",
    "plt.colorbar(c)"
   ]
  },
  {
   "cell_type": "code",
   "execution_count": null,
   "metadata": {},
   "outputs": [],
   "source": [
    "tstart = time.time()\n",
    "deltaV = np.inf\n",
    "dV = []\n",
    "n = 0\n",
    "while deltaV > 1e-5:\n",
    "    deltaV = 0\n",
    "    for i in range(1,x.size-1):\n",
    "        for j in range(1,y.size-1):\n",
    "            v_new[i,j] = 1/6 * (\n",
    "                v_old[i+1,j] + v_new[i-1,j] +\n",
    "                v_old[i,j+1] + v_new[i,j-1] + \n",
    "                v_old[i,j] + v_new[i,j] + \n",
    "                chg_dens(x[i],y[j],R,dl) * dl**2\n",
    "            )\n",
    "    deltaV = np.mean( np.abs(v_new-v_old) )\n",
    "    #dV.append(deltaV)\n",
    "    v_old[:,:] = v_new[:,:]\n",
    "    n+=1\n",
    "tstop = time.time()\n",
    "print(\"{:.1f} seconds for {} iterations\".format(tstop-tstart,n))"
   ]
  },
  {
   "cell_type": "code",
   "execution_count": null,
   "metadata": {},
   "outputs": [],
   "source": [
    "cs=plt.contour(v_new.T,extent=[x.min(),x.max(),y.min(),y.max()],origin='lower',levels=20,cmap='RdBu_r')\n",
    "circ = plt.Circle(xy=(0,0),radius=R,facecolor='None',edgecolor='k')\n",
    "plt.gca().add_artist(circ)\n",
    "plt.gca().set_aspect('equal')\n",
    "plt.colorbar()"
   ]
  },
  {
   "cell_type": "code",
   "execution_count": null,
   "metadata": {},
   "outputs": [],
   "source": [
    "Ex = np.zeros_like(v_new)\n",
    "Ey = np.zeros_like(v_new)\n",
    "\n",
    "for i in range(1,x.size-1,2):\n",
    "    for j in range(1,y.size-1,2):\n",
    "        Ex[i,j] = -(v_new[i+1,j] - v_new[i-1,j]) / (2*dl)\n",
    "        Ey[i,j] = -(v_new[i,j+1] - v_new[i,j-1]) / (2*dl)\n",
    "        mag = np.hypot(Ex[i,j],Ey[i,j])\n",
    "        scale = 75\n",
    "        arrow = plt.arrow(x[i],y[j],Ex[i,j]/scale,Ey[i,j]/scale,width=0.013,facecolor='green',edgecolor='k')\n",
    "        plt.gca().add_artist(arrow)\n",
    "plt.xlim(-L/2,L/2)\n",
    "plt.ylim(-L/2,L/2)\n",
    "plt.gca().set_aspect('equal')"
   ]
  },
  {
   "cell_type": "code",
   "execution_count": null,
   "metadata": {},
   "outputs": [],
   "source": [
    "def chg_dens(x,y,R,dl,Q=1):\n",
    "    phi = np.arctan2(y,x)\n",
    "    lam = Q / (2 * np.pi * R) * np.cos(4*phi)  #times cos(phi)\n",
    "    if np.abs( np.linalg.norm( (x,y) ) - R ) <= dl/2:\n",
    "        return lam / dl**2\n",
    "    return 0"
   ]
  },
  {
   "cell_type": "code",
   "execution_count": null,
   "metadata": {},
   "outputs": [],
   "source": [
    "L = 2\n",
    "dl = 0.05\n",
    "R = 0.25\n",
    "x = y = np.arange(-L/2,L/2,dl)\n",
    "\n",
    "v_old = np.zeros( (x.size,y.size) )\n",
    "v_new = np.zeros_like(v_old)\n",
    "#Boundary conditions\n",
    "v_old[0,:] = 0\n",
    "v_old[-1,:] = 0\n",
    "v_old[:,0] = 0\n",
    "v_old[:,-1] = 0\n",
    "\n",
    "v_new[:,:] = v_old[:,:]\n",
    "\n",
    "chdens = []\n",
    "for i in range(x.size):\n",
    "    for j in range(y.size):\n",
    "        q = chg_dens(x[i],y[j],R,dl)\n",
    "        chdens.append(q)\n",
    "chdens = np.array(chdens)\n",
    "color = (chdens - chdens.min())/(chdens.max()-chdens.min())\n",
    "n = 0\n",
    "xplot = []\n",
    "yplot = []\n",
    "c = []\n",
    "for i in range(x.size):\n",
    "    for j in range(y.size):\n",
    "        q = chdens[n]\n",
    "        if q:\n",
    "            xplot.append(x[i])\n",
    "            yplot.append(y[j])\n",
    "            c.append(color[n])\n",
    "        n+=1\n",
    "c=plt.scatter(xplot,yplot,c=c,cmap='RdBu_r')\n",
    "plt.gca().set_aspect('equal')\n",
    "plt.colorbar(c)"
   ]
  },
  {
   "cell_type": "code",
   "execution_count": null,
   "metadata": {},
   "outputs": [],
   "source": [
    "tstart = time.time()\n",
    "deltaV = np.inf\n",
    "dV = []\n",
    "n = 0\n",
    "while deltaV > 1e-5:\n",
    "    deltaV = 0\n",
    "    for i in range(1,x.size-1):\n",
    "        for j in range(1,y.size-1):\n",
    "            v_new[i,j] = 1/6 * (\n",
    "                v_old[i+1,j] + v_new[i-1,j] +\n",
    "                v_old[i,j+1] + v_new[i,j-1] + \n",
    "                v_old[i,j] + v_new[i,j] + \n",
    "                chg_dens(x[i],y[j],R,dl) * dl**2\n",
    "            )\n",
    "    deltaV = np.mean( np.abs(v_new-v_old) )\n",
    "    #dV.append(deltaV)\n",
    "    v_old[:,:] = v_new[:,:]\n",
    "    n+=1\n",
    "tstop = time.time()\n",
    "print(\"{:.1f} seconds for {} iterations\".format(tstop-tstart,n))"
   ]
  },
  {
   "cell_type": "code",
   "execution_count": null,
   "metadata": {},
   "outputs": [],
   "source": [
    "cs=plt.contour(v_new.T,extent=[x.min(),x.max(),y.min(),y.max()],origin='lower',levels=20,cmap='RdBu_r')\n",
    "circ = plt.Circle(xy=(0,0),radius=R,facecolor='None',edgecolor='k')\n",
    "plt.gca().add_artist(circ)\n",
    "plt.gca().set_aspect('equal')\n",
    "plt.colorbar()"
   ]
  },
  {
   "cell_type": "code",
   "execution_count": null,
   "metadata": {},
   "outputs": [],
   "source": [
    "Ex = np.zeros_like(v_new)\n",
    "Ey = np.zeros_like(v_new)\n",
    "\n",
    "for i in range(1,x.size-1,2):\n",
    "    for j in range(1,y.size-1,2):\n",
    "        Ex[i,j] = -(v_new[i+1,j] - v_new[i-1,j]) / (2*dl)\n",
    "        Ey[i,j] = -(v_new[i,j+1] - v_new[i,j-1]) / (2*dl)\n",
    "        mag = np.hypot(Ex[i,j],Ey[i,j])\n",
    "        scale = 75\n",
    "        arrow = plt.arrow(x[i],y[j],Ex[i,j]/scale,Ey[i,j]/scale,width=0.013,facecolor='green',edgecolor='k')\n",
    "        plt.gca().add_artist(arrow)\n",
    "plt.xlim(-L/2,L/2)\n",
    "plt.ylim(-L/2,L/2)\n",
    "plt.gca().set_aspect('equal')"
   ]
  },
  {
   "cell_type": "code",
   "execution_count": null,
   "metadata": {},
   "outputs": [],
   "source": []
  }
 ],
 "metadata": {
  "kernelspec": {
   "display_name": "Python 3",
   "language": "python",
   "name": "python3"
  },
  "language_info": {
   "codemirror_mode": {
    "name": "ipython",
    "version": 3
   },
   "file_extension": ".py",
   "mimetype": "text/x-python",
   "name": "python",
   "nbconvert_exporter": "python",
   "pygments_lexer": "ipython3",
   "version": "3.7.6"
  }
 },
 "nbformat": 4,
 "nbformat_minor": 4
}
