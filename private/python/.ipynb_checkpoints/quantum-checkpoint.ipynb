{
 "cells": [
  {
   "cell_type": "code",
   "execution_count": null,
   "metadata": {},
   "outputs": [],
   "source": [
    "import numpy as np\n",
    "import matplotlib.pyplot as plt\n",
    "plt.style.use(\"/Users/tjwilli/jupyter.mplstyle\")\n",
    "from IPython.display import Video"
   ]
  },
  {
   "cell_type": "markdown",
   "metadata": {},
   "source": [
    "## Complex numbers in Python"
   ]
  },
  {
   "cell_type": "markdown",
   "metadata": {},
   "source": [
    "### $i\\rightarrow 1j$"
   ]
  },
  {
   "cell_type": "code",
   "execution_count": null,
   "metadata": {},
   "outputs": [],
   "source": [
    "z = 1j\n",
    "print(z**2)"
   ]
  },
  {
   "cell_type": "code",
   "execution_count": null,
   "metadata": {},
   "outputs": [],
   "source": [
    "z = 3 + 4j\n",
    "#z = 3 + 4i\n",
    "#z* = 3 - 4i\n",
    "print(z, np.conj(z))"
   ]
  },
  {
   "cell_type": "code",
   "execution_count": null,
   "metadata": {},
   "outputs": [],
   "source": [
    "print(np.real(z),np.imag(z))"
   ]
  },
  {
   "cell_type": "code",
   "execution_count": null,
   "metadata": {},
   "outputs": [],
   "source": [
    "z = np.zeros(10,dtype=complex)\n",
    "for i in range(z.size):\n",
    "    z[i] = i + 2j * i\n",
    "print(z)"
   ]
  },
  {
   "cell_type": "code",
   "execution_count": null,
   "metadata": {},
   "outputs": [],
   "source": [
    "print(np.conj(z))"
   ]
  },
  {
   "cell_type": "code",
   "execution_count": null,
   "metadata": {},
   "outputs": [],
   "source": [
    "print( np.conj(z) * z )"
   ]
  },
  {
   "cell_type": "code",
   "execution_count": null,
   "metadata": {},
   "outputs": [],
   "source": [
    "plt.plot(z)"
   ]
  },
  {
   "cell_type": "code",
   "execution_count": null,
   "metadata": {},
   "outputs": [],
   "source": []
  },
  {
   "cell_type": "markdown",
   "metadata": {},
   "source": [
    "## Crank-Nicolson"
   ]
  },
  {
   "cell_type": "markdown",
   "metadata": {},
   "source": [
    "### Free particle (V=0 everywhere)"
   ]
  },
  {
   "cell_type": "code",
   "execution_count": null,
   "metadata": {},
   "outputs": [],
   "source": [
    "def potential(x):\n",
    "    return np.zeros_like(x)"
   ]
  },
  {
   "cell_type": "code",
   "execution_count": null,
   "metadata": {},
   "outputs": [],
   "source": [
    "dx = 5e-4\n",
    "dt = 1e-7\n",
    "x = np.arange(0,1,dx)\n",
    "V = potential(x)"
   ]
  },
  {
   "cell_type": "markdown",
   "metadata": {},
   "source": [
    "$\\hat{H}=\\begin{pmatrix}\n",
    "-i\\left(\\frac{1}{\\Delta x^2}+V_0\\right) & \\frac{i}{2\\Delta x^2} & 0 & 0 & 0 & \\cdots & 0\\\\\n",
    "\\frac{i}{2\\Delta x^2}&-i\\left(\\frac{1}{\\Delta x^2}+V_1\\right) &\\frac{i}{2\\Delta x^2} & 0 & 0 & \\cdots & 0\\\\\n",
    "0&\\frac{i}{2\\Delta x^2}&-i\\left(\\frac{1}{\\Delta x^2}+V_2\\right)&\\frac{i}{2\\Delta x^2} & 0 & \\cdots & 0\\\\\n",
    "\\vdots&\\vdots&\\vdots&\\ddots&\\vdots\\\\\n",
    "0&\\cdots&\\cdots&\\frac{i}{2\\Delta x^2}&-i\\left(\\frac{1}{\\Delta x^2}+V_j\\right)&\\frac{i}{2\\Delta x^2}&0\\\\\n",
    "\\end{pmatrix}$\n",
    "<br>\n",
    "<br>\n",
    "<br>\n",
    "$\\left(\\hat{I}-\\frac{\\Delta t}{2}\\hat{H}\\right)\\vec{\\Psi}^{n+1}=\\left(\\hat{I}+\\frac{\\Delta t}{2}\\hat{H}\\right)\\vec{\\Psi}^{n}$\n",
    "\n",
    "$\\hat{A}=\\hat{I}-\\frac{\\Delta t}{2}\\hat{H}$; $\\hat{B}=\\hat{I}+\\frac{\\Delta t}{2}\\hat{H}$\n",
    "\n",
    "$\\hat{A}\\vec{\\Psi}^{n+1}=\\hat{B}\\vec{\\Psi}^{n}$\n",
    "\n",
    "$\\vec{\\Psi}^{n+1}=\\left(\\hat{A}^{-1}\\cdot\\hat{B}\\right)\\vec{\\Psi}^{n}=\\hat{C}\\vec{\\Psi}^{n}$; $\\hat{C}=\\hat{A}^{-1}\\cdot\\hat{B}$"
   ]
  },
  {
   "cell_type": "markdown",
   "metadata": {},
   "source": [
    "### Step 1: Build $\\hat{H}$"
   ]
  },
  {
   "cell_type": "markdown",
   "metadata": {},
   "source": [
    "$\\hat{H}=\\begin{pmatrix}\n",
    "-i\\left(\\frac{1}{\\Delta x^2}+V_0\\right) & 0 & 0 & 0 & 0 & \\cdots & 0\\\\\n",
    "0&-i\\left(\\frac{1}{\\Delta x^2}+V_1\\right) &0 & 0 & 0 & \\cdots & 0\\\\\n",
    "0&0&-i\\left(\\frac{1}{\\Delta x^2}+V_2\\right)&0 & 0 & \\cdots & 0\\\\\n",
    "\\vdots&\\vdots&\\vdots&\\ddots&\\vdots\\\\\n",
    "0&\\cdots&\\cdots&0&-i\\left(\\frac{1}{\\Delta x^2}+V_j\\right)&0&0\\\\\n",
    "\\end{pmatrix}$\n",
    "<br>\n",
    "<br>\n",
    "<br>\n",
    "$+$\n",
    "<br>\n",
    "<br>\n",
    "<br>\n",
    "$\\begin{pmatrix}\n",
    "0 & \\frac{i}{2\\Delta x^2} & 0 & 0 & 0 & \\cdots & 0\\\\\n",
    "\\frac{i}{2\\Delta x^2}&0 &\\frac{i}{2\\Delta x^2} & 0 & 0 & \\cdots & 0\\\\\n",
    "0&\\frac{i}{2\\Delta x^2}&0&\\frac{i}{2\\Delta x^2} & 0 & \\cdots & 0\\\\\n",
    "\\vdots&\\vdots&\\vdots&\\ddots&\\vdots\\\\\n",
    "0&\\cdots&\\cdots&\\frac{i}{2\\Delta x^2}&0&\\frac{i}{2\\Delta x^2}&0\\\\\n",
    "\\end{pmatrix}$"
   ]
  },
  {
   "cell_type": "code",
   "execution_count": null,
   "metadata": {},
   "outputs": [],
   "source": [
    "Hdiag = np.diag( -1j * (1/dx**2 + V),0 )\n",
    "offdiag_elems = np.ones_like(x)[:-1] * 1j / 2 / dx**2\n",
    "Hdiaglow = np.diag( offdiag_elems, k=-1 )\n",
    "Hdiaghi = np.diag( offdiag_elems, k=1 )\n",
    "Hoffdiag = Hdiaglow + Hdiaghi\n",
    "H = Hdiag + Hoffdiag"
   ]
  },
  {
   "cell_type": "code",
   "execution_count": null,
   "metadata": {},
   "outputs": [],
   "source": [
    "print(H.shape)"
   ]
  },
  {
   "cell_type": "code",
   "execution_count": null,
   "metadata": {},
   "outputs": [],
   "source": [
    "for i in range(5):\n",
    "    print(H[i][:5])"
   ]
  },
  {
   "cell_type": "markdown",
   "metadata": {},
   "source": [
    "### Step 2: Now, get $\\hat{A}$ and $\\hat{B}$ from $\\hat{H}$"
   ]
  },
  {
   "cell_type": "markdown",
   "metadata": {},
   "source": [
    "$\\hat{A}=\\hat{I}-\\frac{\\Delta t}{2}\\hat{H}$; $\\hat{B}=\\hat{I}+\\frac{\\Delta t}{2}\\hat{H}$"
   ]
  },
  {
   "cell_type": "code",
   "execution_count": null,
   "metadata": {},
   "outputs": [],
   "source": [
    "iden = np.identity(x.size)\n",
    "A = iden - dt / 2 * H\n",
    "B = iden + dt / 2 * H"
   ]
  },
  {
   "cell_type": "markdown",
   "metadata": {},
   "source": [
    "### Now $\\hat{C}$"
   ]
  },
  {
   "cell_type": "markdown",
   "metadata": {},
   "source": [
    "$\\vec{\\Psi}^{n+1}=\\left(\\hat{A}^{-1}\\cdot\\hat{B}\\right)\\vec{\\Psi}^{n}=\\hat{C}\\vec{\\Psi}^{n}$; $\\hat{C}=\\hat{A}^{-1}\\cdot\\hat{B}$"
   ]
  },
  {
   "cell_type": "code",
   "execution_count": null,
   "metadata": {},
   "outputs": [],
   "source": [
    "Ainv = np.linalg.inv(A)"
   ]
  },
  {
   "cell_type": "markdown",
   "metadata": {},
   "source": [
    "$t\\sim N^3=(L/\\Delta x)^3$\n",
    "\n",
    "$\\Delta x \\rightarrow \\frac{1}{2}\\Delta x \\implies t\\rightarrow 8t$"
   ]
  },
  {
   "cell_type": "code",
   "execution_count": null,
   "metadata": {},
   "outputs": [],
   "source": [
    "C = np.matmul(Ainv,B)"
   ]
  },
  {
   "cell_type": "markdown",
   "metadata": {},
   "source": [
    "### Now we just need $\\Psi_0(x,0)$"
   ]
  },
  {
   "cell_type": "markdown",
   "metadata": {},
   "source": [
    "### Let's use a Gaussian:\n",
    "# $\\Psi_0(x,0)=\\left(\\frac{1}{\\pi\\sigma^2}\\right)^{1/4}e^{-\\frac{1}{2}\\frac{\\left(x-x_0\\right)^2}{\\sigma^2}}$"
   ]
  },
  {
   "cell_type": "code",
   "execution_count": null,
   "metadata": {},
   "outputs": [],
   "source": [
    "def psi_initial(x,x0,sigma):\n",
    "    return (\n",
    "        1/(np.pi)**.25/sigma**.5 *\n",
    "        np.exp(\n",
    "            -0.5 * (x-x0)**2 / sigma**2\n",
    "        )\n",
    "    )\n"
   ]
  },
  {
   "cell_type": "code",
   "execution_count": null,
   "metadata": {},
   "outputs": [],
   "source": [
    "sigma = 0.01\n",
    "x0 = 0.3\n",
    "psi0 = psi_initial(x,x0,sigma)\n",
    "plt.plot(x,np.conj(psi0)*psi0)"
   ]
  },
  {
   "cell_type": "markdown",
   "metadata": {},
   "source": [
    "### To integrate"
   ]
  },
  {
   "cell_type": "code",
   "execution_count": null,
   "metadata": {},
   "outputs": [],
   "source": [
    "integral = np.trapz(psi0**2,x) #trapezoid rule\n",
    "print(\"The integral is\",integral)"
   ]
  },
  {
   "cell_type": "markdown",
   "metadata": {},
   "source": [
    "### Time evolution"
   ]
  },
  {
   "cell_type": "code",
   "execution_count": null,
   "metadata": {},
   "outputs": [],
   "source": [
    "psi1 = np.dot(C,psi0)\n",
    "plt.plot(x,np.real(psi1),label='real')\n",
    "plt.plot(x,np.imag(psi1),label='imag')"
   ]
  },
  {
   "cell_type": "code",
   "execution_count": null,
   "metadata": {},
   "outputs": [],
   "source": [
    "psi2 = np.dot(C,psi1)\n",
    "plt.plot(x,np.real(psi2))\n",
    "plt.plot(x,np.imag(psi2))"
   ]
  },
  {
   "cell_type": "code",
   "execution_count": null,
   "metadata": {},
   "outputs": [],
   "source": [
    "import time"
   ]
  },
  {
   "cell_type": "code",
   "execution_count": null,
   "metadata": {},
   "outputs": [],
   "source": [
    "tstart = time.time()\n",
    "n = 5000\n",
    "psi_prev = psi0\n",
    "for i in range(n):\n",
    "    psi_next = np.dot(C,psi_prev)\n",
    "    psi_prev = psi_next\n",
    "tstop = time.time()\n",
    "print(\"{:.2f} seconds\".format(tstop-tstart))"
   ]
  },
  {
   "cell_type": "code",
   "execution_count": null,
   "metadata": {},
   "outputs": [],
   "source": [
    "plt.plot(x,np.real(psi_next),label=r'Re($\\Psi$)')\n",
    "plt.plot(x,np.imag(psi_next),label=r'Im($\\Psi$)')\n",
    "plt.plot(x,np.conj(psi_next)*psi_next,label=r'$|\\Psi|^2$')\n",
    "plt.plot(x,psi0**2,c='k',ls='--',label=r'$|\\Psi_0|^2$')\n",
    "plt.legend()"
   ]
  },
  {
   "cell_type": "markdown",
   "metadata": {},
   "source": [
    "### Check normalization"
   ]
  },
  {
   "cell_type": "code",
   "execution_count": null,
   "metadata": {},
   "outputs": [],
   "source": [
    "prob1 = np.trapz(np.conj(psi_next)*psi_next,x)\n",
    "print(prob1)"
   ]
  },
  {
   "cell_type": "code",
   "execution_count": null,
   "metadata": {},
   "outputs": [],
   "source": [
    "psi_t = []\n",
    "n = 5000\n",
    "tstart = time.time()\n",
    "psi_prev = psi0\n",
    "for i in range(n):\n",
    "    psi_next = np.dot(C,psi_prev)\n",
    "    psi_prev = psi_next\n",
    "    psi_t.append(psi_next)\n",
    "tstop = time.time()\n",
    "print(\"{:.2f} seconds\".format(tstop-tstart))"
   ]
  },
  {
   "cell_type": "code",
   "execution_count": null,
   "metadata": {},
   "outputs": [],
   "source": [
    "for n in range(0,len(psi_t),1000):\n",
    "    t = dt * n\n",
    "    prob = np.conj(psi_t[n]) * psi_t[n]\n",
    "    plt.plot(x,np.real(prob),label=\"t={:.2E}\".format(t))\n",
    "plt.legend()"
   ]
  },
  {
   "cell_type": "code",
   "execution_count": null,
   "metadata": {},
   "outputs": [],
   "source": []
  },
  {
   "cell_type": "code",
   "execution_count": null,
   "metadata": {},
   "outputs": [],
   "source": [
    "sigma"
   ]
  },
  {
   "cell_type": "code",
   "execution_count": null,
   "metadata": {},
   "outputs": [],
   "source": [
    "Video('stationary_spreading.mp4')"
   ]
  },
  {
   "cell_type": "markdown",
   "metadata": {},
   "source": [
    "### Putting it all together"
   ]
  },
  {
   "cell_type": "code",
   "execution_count": null,
   "metadata": {},
   "outputs": [],
   "source": [
    "#Functions\n",
    "def potential(x):\n",
    "    v = np.zeros_like(x)\n",
    "    return v\n",
    "\n",
    "def psi_initial(x,x0,sigma):\n",
    "    return (\n",
    "        1/(np.pi)**.25/sigma**.5 *\n",
    "        np.exp(\n",
    "            -0.5 * (x-x0)**2 / sigma**2\n",
    "        )\n",
    "        #*\n",
    "        #np.exp(1j*350*x)\n",
    "    )\n",
    "\n",
    "def get_C_matrix(V,dx,dt):\n",
    "    #Get H matrix\n",
    "    Hdiag = np.diag( -1j * (1/dx**2 + V),0 )\n",
    "    offdiag_elems = np.ones_like(x)[:-1] * 1j / 2 / dx**2\n",
    "    Hdiaglow = np.diag( offdiag_elems, k=-1 )\n",
    "    Hdiaghi = np.diag( offdiag_elems, k=1 )\n",
    "    Hoffdiag = Hdiaglow + Hdiaghi\n",
    "    H = Hdiag + Hoffdiag\n",
    "    #Get A and B\n",
    "    iden = np.identity(x.size)\n",
    "    A = iden - dt / 2 * H\n",
    "    B = iden + dt / 2 * H\n",
    "    #Get C\n",
    "    Ainv = np.linalg.inv(A)\n",
    "    C = np.matmul(Ainv,B)\n",
    "    return C"
   ]
  },
  {
   "cell_type": "code",
   "execution_count": null,
   "metadata": {},
   "outputs": [],
   "source": [
    "#Setup grid\n",
    "x0 = 0\n",
    "x1 = 1\n",
    "t0 = 0\n",
    "t1 = 2e-3\n",
    "dx = 5e-4\n",
    "dt = 1e-7\n",
    "x = np.arange(x0,x1,dx)\n",
    "t = np.arange(t0,t1,dt)\n",
    "\n",
    "#Get V and psi initial\n",
    "\n",
    "V = potential(x)\n",
    "sigma = 0.005\n",
    "xmean = 0.3\n",
    "psi0 = psi_initial(x,xmean,sigma)"
   ]
  },
  {
   "cell_type": "code",
   "execution_count": null,
   "metadata": {},
   "outputs": [],
   "source": [
    "C = get_C_matrix(V,dx,dt)"
   ]
  },
  {
   "cell_type": "code",
   "execution_count": null,
   "metadata": {},
   "outputs": [],
   "source": [
    "psi_t = []\n",
    "psi_t.append( psi0 )\n",
    "for time in t:\n",
    "    psi_t.append( np.dot(C,psi_t[-1]) )"
   ]
  },
  {
   "cell_type": "code",
   "execution_count": null,
   "metadata": {},
   "outputs": [],
   "source": [
    "for n in range(0,len(psi_t),4000):\n",
    "    t = dt * n\n",
    "    prob = np.conj(psi_t[n]) * psi_t[n]\n",
    "    plt.plot(x,np.real(prob),label=\"t={:.2E}\".format(t))\n",
    "plt.legend()"
   ]
  },
  {
   "cell_type": "code",
   "execution_count": null,
   "metadata": {},
   "outputs": [],
   "source": []
  },
  {
   "cell_type": "code",
   "execution_count": null,
   "metadata": {},
   "outputs": [],
   "source": []
  }
 ],
 "metadata": {
  "kernelspec": {
   "display_name": "Python 3",
   "language": "python",
   "name": "python3"
  },
  "language_info": {
   "codemirror_mode": {
    "name": "ipython",
    "version": 3
   },
   "file_extension": ".py",
   "mimetype": "text/x-python",
   "name": "python",
   "nbconvert_exporter": "python",
   "pygments_lexer": "ipython3",
   "version": "3.7.6"
  }
 },
 "nbformat": 4,
 "nbformat_minor": 4
}
