{
 "cells": [
  {
   "cell_type": "code",
   "execution_count": 1,
   "metadata": {},
   "outputs": [],
   "source": [
    "import numpy as np\n",
    "import matplotlib.pyplot as plt\n",
    "plt.style.use(\"/Users/tjwilli/jupyter.mplstyle\")\n",
    "from IPython.display import Video\n",
    "import time"
   ]
  },
  {
   "cell_type": "code",
   "execution_count": 2,
   "metadata": {},
   "outputs": [],
   "source": [
    "class Timer:\n",
    "    def __init__(self):\n",
    "        self.tstart = 0\n",
    "        self.tstop = 0\n",
    "    def start(self):\n",
    "        self.tstart = time.time()\n",
    "    def stop(self):\n",
    "        self.tstop = time.time()\n",
    "    def show(self):\n",
    "        tdiff = self.tstop - self.tstart\n",
    "        print(\"{:.2f} seconds elapsed\".format(tdiff))"
   ]
  },
  {
   "cell_type": "code",
   "execution_count": 5,
   "metadata": {},
   "outputs": [],
   "source": [
    "def psi_initial(x,x0,sigma,k=0):\n",
    "    return (\n",
    "        1/(np.pi)**.25/sigma**.5 *\n",
    "        np.exp(\n",
    "            -0.5 * (x-x0)**2 / sigma**2\n",
    "        )\n",
    "        *\n",
    "        np.exp(1j*k*(x-x0))\n",
    "    )\n",
    "\n",
    "def get_C_matrix(V,dx,dt):\n",
    "    #Get H matrix\n",
    "    Hdiag = np.diag( -1j * (1/dx**2 + V),0 )\n",
    "    offdiag_elems = np.ones_like(x)[:-1] * 1j / 2 / dx**2\n",
    "    Hdiaglow = np.diag( offdiag_elems, k=-1 )\n",
    "    Hdiaghi = np.diag( offdiag_elems, k=1 )\n",
    "    Hoffdiag = Hdiaglow + Hdiaghi\n",
    "    H = Hdiag + Hoffdiag\n",
    "    #Get A and B\n",
    "    iden = np.identity(x.size)\n",
    "    A = iden - dt / 2 * H\n",
    "    B = iden + dt / 2 * H\n",
    "    #Get C\n",
    "    Ainv = np.linalg.inv(A)\n",
    "    C = np.matmul(Ainv,B)\n",
    "    return C\n",
    "\n",
    "def plot_time_evolution(psi_t,numplots=10):\n",
    "    n = len(psi_t)\n",
    "    step = int(n/numplots)\n",
    "    iplotpsi = psi_t[::step]\n",
    "    i = 0\n",
    "    for ipsi in iplotpsi:\n",
    "        plt.plot(x,np.real(np.conj(ipsi)*ipsi),label='t={:.2E}'.format(i*dt))\n",
    "        i+=step\n",
    "    plt.legend()"
   ]
  },
  {
   "cell_type": "markdown",
   "metadata": {},
   "source": [
    "### Particle with non-zero potential"
   ]
  },
  {
   "cell_type": "code",
   "execution_count": null,
   "metadata": {},
   "outputs": [],
   "source": [
    "def potential(x):\n",
    "    return -1e5 * x"
   ]
  },
  {
   "cell_type": "code",
   "execution_count": null,
   "metadata": {},
   "outputs": [],
   "source": [
    "plt.plot(x,potential(x))"
   ]
  },
  {
   "cell_type": "code",
   "execution_count": null,
   "metadata": {},
   "outputs": [],
   "source": [
    "#Setup grid\n",
    "x0 = 0\n",
    "x1 = 1.5\n",
    "t0 = 0\n",
    "t1 = 2e-3\n",
    "dx = 5e-4\n",
    "dt = 1e-7\n",
    "x = np.arange(x0,x1,dx)\n",
    "t = np.arange(t0,t1,dt)\n",
    "\n",
    "#Get V and psi initial\n",
    "\n",
    "V = potential(x)\n",
    "sigma = np.sqrt(0.005)\n",
    "xmean = 0.3\n",
    "psi0 = psi_initial(x,xmean,sigma)"
   ]
  },
  {
   "cell_type": "code",
   "execution_count": null,
   "metadata": {},
   "outputs": [],
   "source": [
    "tstart = time.time()\n",
    "C = get_C_matrix(V,dx,dt)\n",
    "psi_t = []\n",
    "psi_t.append( psi0 )\n",
    "for itime in t:\n",
    "    psi_t.append( np.dot(C,psi_t[-1]) )\n",
    "tstop = time.time()\n",
    "print(\"{:.2f} seconds\".format(tstop-tstart))"
   ]
  },
  {
   "cell_type": "code",
   "execution_count": null,
   "metadata": {},
   "outputs": [],
   "source": [
    "plot_time_evolution(psi_t)"
   ]
  },
  {
   "cell_type": "code",
   "execution_count": null,
   "metadata": {},
   "outputs": [],
   "source": [
    "Video(\"animation/qm_downhill.mp4\")"
   ]
  },
  {
   "cell_type": "markdown",
   "metadata": {},
   "source": [
    "### Motion with constant velocity"
   ]
  },
  {
   "cell_type": "markdown",
   "metadata": {},
   "source": [
    "# $\\Psi_0(x,0)=\\left(\\frac{1}{\\pi\\sigma^2}\\right)^{1/4}e^{-\\frac{1}{2}\\frac{\\left(x-x_0\\right)^2}{\\sigma^2}}\\rightarrow \\left(\\frac{1}{\\pi\\sigma^2}\\right)^{1/4}e^{-\\frac{1}{2}\\frac{\\left(x-x_0\\right)^2}{\\sigma^2}}e^{ik(x-x_0)}$"
   ]
  },
  {
   "cell_type": "code",
   "execution_count": null,
   "metadata": {},
   "outputs": [],
   "source": [
    "def potential(x):\n",
    "    return np.zeros_like(x)"
   ]
  },
  {
   "cell_type": "code",
   "execution_count": null,
   "metadata": {},
   "outputs": [],
   "source": [
    "#Setup grid\n",
    "x0 = 0\n",
    "x1 = 1\n",
    "t0 = 0\n",
    "t1 = 2e-3\n",
    "dx = 5e-4\n",
    "dt = 1e-7\n",
    "x = np.arange(x0,x1,dx)\n",
    "t = np.arange(t0,t1,dt)\n",
    "\n",
    "#Get V and psi initial\n",
    "\n",
    "V = potential(x)\n",
    "sigma = np.sqrt(0.005)\n",
    "xmean = 0.3\n",
    "psi0 = psi_initial(x,xmean,sigma,k=350)"
   ]
  },
  {
   "cell_type": "code",
   "execution_count": null,
   "metadata": {},
   "outputs": [],
   "source": [
    "timer = Timer()\n",
    "timer.start()\n",
    "C = get_C_matrix(V,dx,dt)\n",
    "psi_t = []\n",
    "psi_t.append( psi0 )\n",
    "for itime in t:\n",
    "    psi_t.append( np.dot(C,psi_t[-1]) )\n",
    "timer.stop()\n",
    "timer.show()"
   ]
  },
  {
   "cell_type": "code",
   "execution_count": null,
   "metadata": {},
   "outputs": [],
   "source": [
    "plot_time_evolution(psi_t)"
   ]
  },
  {
   "cell_type": "code",
   "execution_count": null,
   "metadata": {},
   "outputs": [],
   "source": [
    "Video(\"animation/qm_constant_velocity.mp4\")"
   ]
  },
  {
   "cell_type": "markdown",
   "metadata": {},
   "source": [
    "### Particle \"rolling uphill\""
   ]
  },
  {
   "cell_type": "code",
   "execution_count": null,
   "metadata": {},
   "outputs": [],
   "source": [
    "def potential(x):\n",
    "    x0 = 0.8\n",
    "    sig = 0.4\n",
    "    v = 1e5*np.exp(-(x-x0)**2/sig**2)\n",
    "    return v"
   ]
  },
  {
   "cell_type": "code",
   "execution_count": null,
   "metadata": {},
   "outputs": [],
   "source": [
    "plt.plot(x,potential(x))"
   ]
  },
  {
   "cell_type": "code",
   "execution_count": null,
   "metadata": {},
   "outputs": [],
   "source": [
    "#Setup grid\n",
    "x0 = 0\n",
    "x1 = 1.5\n",
    "t0 = 0\n",
    "t1 = 2e-3\n",
    "dx = 5e-4\n",
    "dt = 1e-7\n",
    "x = np.arange(x0,x1,dx)\n",
    "t = np.arange(t0,t1,dt)\n",
    "\n",
    "#Get V and psi initial\n",
    "\n",
    "V = potential(x)\n",
    "sigma = np.sqrt(0.005)\n",
    "xmean = 0.3\n",
    "psi0 = psi_initial(x,xmean,sigma,k=350)"
   ]
  },
  {
   "cell_type": "code",
   "execution_count": null,
   "metadata": {},
   "outputs": [],
   "source": [
    "C = get_C_matrix(V,dx,dt)\n",
    "psi_t = []\n",
    "psi_t.append( psi0 )\n",
    "for time in t:\n",
    "    psi_t.append( np.dot(C,psi_t[-1]) )"
   ]
  },
  {
   "cell_type": "code",
   "execution_count": null,
   "metadata": {},
   "outputs": [],
   "source": [
    "plot_time_evolution(psi_t)"
   ]
  },
  {
   "cell_type": "code",
   "execution_count": null,
   "metadata": {},
   "outputs": [],
   "source": [
    "Video(\"animation/qm_uphill.mp4\")"
   ]
  },
  {
   "cell_type": "code",
   "execution_count": null,
   "metadata": {},
   "outputs": [],
   "source": [
    "Video(\"animation/qm_uphill_split.mp4\")"
   ]
  },
  {
   "cell_type": "markdown",
   "metadata": {},
   "source": [
    "### Tunnelling"
   ]
  },
  {
   "cell_type": "markdown",
   "metadata": {},
   "source": [
    "#### Two ways of writing the same function"
   ]
  },
  {
   "cell_type": "code",
   "execution_count": 3,
   "metadata": {},
   "outputs": [],
   "source": [
    "def potential(x,d,V0,x0=0.6):\n",
    "    v = np.zeros_like(x)\n",
    "    for i in range(x.size):\n",
    "        if x[i] >= x0 and x[i] <= x0 + d:\n",
    "            v[i] = V0\n",
    "    return v\n",
    "\n",
    "#A faster way\n",
    "def potential(x,d,V0,x0=0.6):\n",
    "    v = np.zeros_like(x)\n",
    "    mask = (x>=x0) & (x<=x0+d)\n",
    "    v[mask] = V0\n",
    "    return v"
   ]
  },
  {
   "cell_type": "code",
   "execution_count": 7,
   "metadata": {},
   "outputs": [
    {
     "data": {
      "text/plain": [
       "[<matplotlib.lines.Line2D at 0x7fc4cac7b6d0>]"
      ]
     },
     "execution_count": 7,
     "metadata": {},
     "output_type": "execute_result"
    },
    {
     "data": {
      "image/png": "[encoded data removed]",
      "text/plain": [
       "<Figure size 960x480 with 1 Axes>"
      ]
     },
     "metadata": {
      "needs_background": "light"
     },
     "output_type": "display_data"
    }
   ],
   "source": [
    "plt.plot(x,potential(x,0.01,1e5))"
   ]
  },
  {
   "cell_type": "code",
   "execution_count": null,
   "metadata": {},
   "outputs": [],
   "source": [
    "Video(\"animation/qm_barrier_wide.mp4\")"
   ]
  },
  {
   "cell_type": "code",
   "execution_count": null,
   "metadata": {},
   "outputs": [],
   "source": [
    "Video(\"animation/qm_barrier_wider.mp4\")"
   ]
  },
  {
   "cell_type": "code",
   "execution_count": 8,
   "metadata": {},
   "outputs": [],
   "source": [
    "#Setup grid\n",
    "x0 = 0\n",
    "x1 = 1.5\n",
    "t0 = 0\n",
    "t1 = 2e-3\n",
    "dx = 5e-4\n",
    "dt = 1e-7\n",
    "x = np.arange(x0,x1,dx)\n",
    "t = np.arange(t0,t1,dt)\n",
    "\n",
    "#Get V and psi initial\n",
    "k = 350\n",
    "V0 = 4e4\n",
    "xloc = 0.6\n",
    "d = 0.005\n",
    "V = potential(x,d,V0,xloc)\n",
    "sigma = 0.05#np.sqrt(0.005)\n",
    "xmean = 0.3\n",
    "psi0 = psi_initial(x,xmean,sigma,k=k)"
   ]
  },
  {
   "cell_type": "code",
   "execution_count": 9,
   "metadata": {},
   "outputs": [
    {
     "name": "stdout",
     "output_type": "stream",
     "text": [
      "220.71 seconds elapsed\n"
     ]
    }
   ],
   "source": [
    "timer = Timer()\n",
    "timer.start()\n",
    "C = get_C_matrix(V,dx,dt)\n",
    "psi_t = []\n",
    "psi_t.append( psi0 )\n",
    "for itime in t:\n",
    "    psi_t.append( np.dot(C,psi_t[-1]) )\n",
    "timer.stop()\n",
    "timer.show()"
   ]
  },
  {
   "cell_type": "code",
   "execution_count": 10,
   "metadata": {},
   "outputs": [
    {
     "data": {
      "text/plain": [
       "[<matplotlib.lines.Line2D at 0x7fc4946bc310>]"
      ]
     },
     "execution_count": 10,
     "metadata": {},
     "output_type": "execute_result"
    },
    {
     "data": {
      "image/png": "[encoded data removed]",
      "text/plain": [
       "<Figure size 960x480 with 1 Axes>"
      ]
     },
     "metadata": {
      "needs_background": "light"
     },
     "output_type": "display_data"
    }
   ],
   "source": [
    "prob = np.real(np.conj(psi_t[-1])*psi_t[-1])\n",
    "plt.plot(x,prob)"
   ]
  },
  {
   "cell_type": "markdown",
   "metadata": {},
   "source": [
    "### Check normalization"
   ]
  },
  {
   "cell_type": "code",
   "execution_count": null,
   "metadata": {},
   "outputs": [],
   "source": [
    "totalprob = np.trapz(prob,x)\n",
    "print(totalprob)"
   ]
  },
  {
   "cell_type": "markdown",
   "metadata": {},
   "source": [
    "#### Probability that particle ends up reflecting off of the barrier"
   ]
  },
  {
   "cell_type": "code",
   "execution_count": null,
   "metadata": {},
   "outputs": [],
   "source": [
    "xleft = []\n",
    "pleft = []\n",
    "for i in range(x.size):\n",
    "    if x[i] < xloc:\n",
    "        xleft.append(x[i])\n",
    "        pleft.append(prob[i])"
   ]
  },
  {
   "cell_type": "code",
   "execution_count": null,
   "metadata": {},
   "outputs": [],
   "source": [
    "p_reflect = np.trapz(pleft,xleft)\n",
    "print(\"{:.2f} probability of reflection\".format(p_reflect))"
   ]
  },
  {
   "cell_type": "code",
   "execution_count": null,
   "metadata": {},
   "outputs": [],
   "source": [
    "p_trans = np.trapz( prob[x>xloc+d],x[x>xloc+d] )\n",
    "print(\"{:.2f} probability of transmission\".format(p_trans))"
   ]
  },
  {
   "cell_type": "code",
   "execution_count": null,
   "metadata": {},
   "outputs": [],
   "source": [
    "#V=1e5, d=1e-2 (99% reflection)\n",
    "#V=1e4, d=5e-3 (99% transmission)"
   ]
  },
  {
   "cell_type": "code",
   "execution_count": null,
   "metadata": {},
   "outputs": [],
   "source": []
  },
  {
   "cell_type": "code",
   "execution_count": null,
   "metadata": {},
   "outputs": [],
   "source": [
    "k"
   ]
  },
  {
   "cell_type": "code",
   "execution_count": null,
   "metadata": {},
   "outputs": [],
   "source": [
    "def Tcoef(V0,d,E):\n",
    "    denom = 1 + V0**2 / (4*E*(V0-E) ) * np.sinh( np.sqrt(2*d**2*(V0-E)) )**2\n",
    "    return 1 / denom"
   ]
  },
  {
   "cell_type": "code",
   "execution_count": null,
   "metadata": {},
   "outputs": [],
   "source": [
    "d = 0.005\n",
    "k=350\n",
    "E = 0.5 * k**2\n",
    "vplot = np.linspace(1.000001,2,100)\n",
    "t = Tcoef(vplot*E,d,E)"
   ]
  },
  {
   "cell_type": "code",
   "execution_count": null,
   "metadata": {},
   "outputs": [],
   "source": [
    "plt.plot(vplot,t)"
   ]
  },
  {
   "cell_type": "code",
   "execution_count": null,
   "metadata": {},
   "outputs": [],
   "source": []
  }
 ],
 "metadata": {
  "kernelspec": {
   "display_name": "Python 3",
   "language": "python",
   "name": "python3"
  },
  "language_info": {
   "codemirror_mode": {
    "name": "ipython",
    "version": 3
   },
   "file_extension": ".py",
   "mimetype": "text/x-python",
   "name": "python",
   "nbconvert_exporter": "python",
   "pygments_lexer": "ipython3",
   "version": "3.7.6"
  }
 },
 "nbformat": 4,
 "nbformat_minor": 4
}
