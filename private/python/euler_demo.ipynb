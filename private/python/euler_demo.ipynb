{
 "cells": [
  {
   "cell_type": "code",
   "execution_count": 1,
   "metadata": {},
   "outputs": [],
   "source": [
    "import numpy as np\n",
    "import matplotlib.pyplot as plt\n",
    "from matplotlib.animation import FuncAnimation\n",
    "from IPython.display import HTML\n",
    "plt.style.use(\"/Users/tjwilli/presentation.mplstyle\")"
   ]
  },
  {
   "cell_type": "markdown",
   "metadata": {},
   "source": [
    "## Simple Diff Eqs\n",
    "### Example: Reimann sum\n",
    "### $\\frac{dy}{dt} = f(t) =  4e^{-\\frac{t}{2}}\\sin^2{t}+t^\\frac{1}{2}$"
   ]
  },
  {
   "cell_type": "code",
   "execution_count": null,
   "metadata": {},
   "outputs": [],
   "source": [
    "plt.figure(figsize=(6,4))\n",
    "t = np.linspace(0,5,1000)\n",
    "deriv_func = lambda t: 4*np.exp(-t/2) * np.sin(t)**2 + t**.5\n",
    "dydt = deriv_func(t)\n",
    "plt.plot(t,dydt)\n",
    "plt.xlabel('t')\n",
    "plt.ylabel('y')"
   ]
  },
  {
   "cell_type": "code",
   "execution_count": null,
   "metadata": {},
   "outputs": [],
   "source": [
    "dt = .1\n",
    "atot = 0\n",
    "\n",
    "plt.figure(figsize=(6,4))\n",
    "\n",
    "for tt in np.arange(0,t.max(),dt):\n",
    "    h = deriv_func(tt)\n",
    "    atot += h * dt\n",
    "    plt.bar(\n",
    "        tt,\n",
    "        h,\n",
    "        width=dt,\n",
    "        color='green',\n",
    "        edgecolor='k',\n",
    "        align='edge'\n",
    "    )\n",
    "    \n",
    "\n",
    "plt.plot(t,dydt,c='blue',lw=2)\n",
    "plt.xlabel('t')\n",
    "plt.ylabel('y')\n",
    "plt.title(\"dt={},y({})={:.2f}\".format(dt,t.max(),atot))"
   ]
  },
  {
   "cell_type": "markdown",
   "metadata": {},
   "source": [
    "## Taylor approximation"
   ]
  },
  {
   "cell_type": "code",
   "execution_count": null,
   "metadata": {},
   "outputs": [],
   "source": [
    "#Set up the figure for plotting\n",
    "plt.figure(figsize=(6,4))\n",
    "\n",
    "#Create array to plot over\n",
    "t = np.linspace(0,np.pi,100)\n",
    "y = np.sin(t)\n",
    "#Plot actual function\n",
    "plt.plot(t,y,c='k')\n",
    "\n",
    "#Initial value\n",
    "t0 = np.pi/4\n",
    "y0 = np.sin( t0 )\n",
    "#Plot initial value\n",
    "plt.scatter([t0],[y0],c='k')\n",
    "#Timestep\n",
    "dt = np.pi/8\n",
    "\n",
    "#First deriv\n",
    "dydt0 = np.cos( t0 )\n",
    "#Second deriv\n",
    "d2ydt20 = -np.sin(t0)\n",
    "\n",
    "#Linear approx\n",
    "y1 = y0 + dydt0 * dt\n",
    "#Plot linear approx\n",
    "plt.scatter( [t0+dt],[y1],c='blue')\n",
    "plt.plot( [t0,t0+dt],[y0,y1],c='blue')\n",
    "\n",
    "#Second order approx\n",
    "y1 = y0 + dydt0 * dt +0.5*d2ydt20*dt**2\n",
    "plt.scatter( [t0+dt],[y1],c='green')"
   ]
  },
  {
   "cell_type": "markdown",
   "metadata": {},
   "source": [
    "## Euler method"
   ]
  },
  {
   "cell_type": "code",
   "execution_count": null,
   "metadata": {},
   "outputs": [],
   "source": [
    "def deriv(tn,yn,tau):\n",
    "    \"\"\"Calculate the derivate\"\"\"\n",
    "    return -yn / tau\n",
    "\n",
    "#Tau used for derivative\n",
    "tau = 3\n",
    "#Time step\n",
    "dt = 0.2\n",
    "\n",
    "#Initial value\n",
    "t0 = 0\n",
    "y0 = 5\n",
    "\n",
    "#The time value when we want to stop the loop\n",
    "tstop = 10\n",
    "\n",
    "nmax = int( (tstop - t0) / dt )\n",
    "print(\"We will loop through {} points\".format(nmax))"
   ]
  },
  {
   "cell_type": "code",
   "execution_count": null,
   "metadata": {},
   "outputs": [],
   "source": [
    "#Set up our lists to collect our approximation points as we loop\n",
    "time = []\n",
    "y = []\n",
    "\n",
    "#In this case, we know the true solution (y = 5*exp(-t/T)) so let's collect it to to compare\n",
    "yactual = []\n",
    "time.append(t0)\n",
    "y.append(y0)\n",
    "yactual.append(y0)\n",
    "\n",
    "for i in range(1,nmax):\n",
    "    #t_n-1, y_n-1\n",
    "    tprev = time[i-1]\n",
    "    yprev = y[i-1]\n",
    "    \n",
    "    #Calculate derivative\n",
    "    dydtprev = deriv(tprev,yprev,tau)\n",
    "    \n",
    "    yn = yprev + dydtprev * dt\n",
    "    y.append( yn )\n",
    "    time.append( tprev + dt )\n",
    "    \n",
    "    #True solution\n",
    "    yactual.append( y0 * np.exp(-time[-1]/tau) )"
   ]
  },
  {
   "cell_type": "code",
   "execution_count": null,
   "metadata": {},
   "outputs": [],
   "source": [
    "plt.plot(time,y,label='approx')\n",
    "plt.plot(time,yactual,label='true')\n",
    "plt.title(\"dt={}\".format(dt))\n",
    "plt.legend();"
   ]
  },
  {
   "cell_type": "markdown",
   "metadata": {},
   "source": [
    "## Same thing in numpy"
   ]
  },
  {
   "cell_type": "code",
   "execution_count": 9,
   "metadata": {},
   "outputs": [],
   "source": [
    "def deriv(tn,yn,tau):\n",
    "    \"\"\"Calculate the derivate\"\"\"\n",
    "    return -tau\n",
    "\n",
    "#Tau used for derivative\n",
    "tau = 3.0\n",
    "#Time step\n",
    "dt = 5 * tau\n",
    "\n",
    "#Initial value\n",
    "t0 = 0\n",
    "y0 = 5\n",
    "\n",
    "#The time value when we want to stop the loop\n",
    "tstop = 10 * tau"
   ]
  },
  {
   "cell_type": "code",
   "execution_count": 10,
   "metadata": {},
   "outputs": [],
   "source": [
    "time = np.arange(t0,tstop,dt)\n",
    "y = np.zeros_like(time)\n",
    "yactual = np.zeros_like(time)\n",
    "\n",
    "time[0] = t0\n",
    "y[0] = y0\n",
    "\n",
    "for i in range(1,time.size):\n",
    "    tprev = time[i-1]\n",
    "    yprev = y[i-1]\n",
    "    \n",
    "    #Calculate derivative\n",
    "    dydtprev = deriv(tprev,yprev,tau)\n",
    "    yn = yprev + dydtprev * dt\n",
    "    y[i] = yn"
   ]
  },
  {
   "cell_type": "code",
   "execution_count": 11,
   "metadata": {},
   "outputs": [
    {
     "data": {
      "image/png": "[encoded data removed]",
      "text/plain": [
       "<Figure size 960x480 with 1 Axes>"
      ]
     },
     "metadata": {
      "needs_background": "light"
     },
     "output_type": "display_data"
    }
   ],
   "source": [
    "plt.figure(figsize=(8,4))\n",
    "plt.plot(time,y,label='approx')\n",
    "plt.plot(time,y0-tau*time,label='actual')\n",
    "plt.title(\"dt={}\".format(dt))\n",
    "plt.xlabel('t')\n",
    "plt.ylabel('y')\n",
    "plt.legend();"
   ]
  },
  {
   "cell_type": "markdown",
   "metadata": {},
   "source": [
    "## Error"
   ]
  },
  {
   "cell_type": "code",
   "execution_count": null,
   "metadata": {},
   "outputs": [],
   "source": [
    "def deriv(tn,yn,tau):\n",
    "    \"\"\"Calculate the derivate\"\"\"\n",
    "    return -yn / tau\n",
    "\n",
    "#Tau used for derivative\n",
    "tau = 3\n",
    "#Initial value\n",
    "t0 = 0\n",
    "y0 = 5\n",
    "\n",
    "plt.figure(figsize=(6,4))\n",
    "#The time value when we want to stop the loop\n",
    "tstop = 10\n",
    "for dt in np.logspace(-3,-0.3,5):\n",
    "    time = np.arange(t0,tstop,dt)\n",
    "    y = np.zeros_like(time)\n",
    "    yactual = y0 * np.exp(-time/tau)\n",
    "    yerr = np.zeros_like(y)\n",
    "\n",
    "    time[0] = t0\n",
    "    y[0] = y0\n",
    "\n",
    "    for i in range(1,time.size):\n",
    "        tprev = time[i-1]\n",
    "        yprev = y[i-1]\n",
    "\n",
    "        #Calculate derivative\n",
    "        dydtprev = deriv(tprev,yprev,tau)\n",
    "        yn = yprev + dydtprev * dt\n",
    "        y[i] = yn\n",
    "        yerr[i] = np.abs( yn - yactual[i] ) / yactual[i]\n",
    "    plt.plot(time,yerr,label='dt={:.2E}'.format(dt))\n",
    "plt.legend()\n",
    "plt.ylabel('fractional error')\n",
    "plt.xlabel('time')\n",
    "plt.title(r'$E_n\\sim\\Delta t$')"
   ]
  },
  {
   "cell_type": "markdown",
   "metadata": {},
   "source": [
    "## Roundoff errors"
   ]
  },
  {
   "cell_type": "code",
   "execution_count": null,
   "metadata": {},
   "outputs": [],
   "source": []
  },
  {
   "cell_type": "code",
   "execution_count": null,
   "metadata": {},
   "outputs": [],
   "source": [
    "def deriv(tn,yn,tau):\n",
    "    \"\"\"Calculate the derivate\"\"\"\n",
    "    return -yn / tau\n",
    "\n",
    "#Tau used for derivative\n",
    "tau = 5700. #carbon half life\n",
    "#Time step\n",
    "dt = 600. # ~0.1 tau\n",
    "\n",
    "#Initial value\n",
    "t0 = 0\n",
    "y0 = 5\n",
    "\n",
    "#The time value when we want to stop the loop\n",
    "tstop = tau * 5"
   ]
  },
  {
   "cell_type": "code",
   "execution_count": null,
   "metadata": {},
   "outputs": [],
   "source": [
    "time = np.arange(t0,tstop,dt)\n",
    "y = np.zeros_like(time)\n",
    "yactual = np.zeros_like(time)\n",
    "\n",
    "time[0] = t0\n",
    "y[0] = y0\n",
    "\n",
    "for i in range(1,time.size):\n",
    "    tprev = time[i-1]\n",
    "    yprev = y[i-1]\n",
    "    \n",
    "    #Calculate derivative\n",
    "    dydtprev = deriv(tprev,yprev,tau)\n",
    "    yn = yprev + dydtprev * dt\n",
    "    y[i] = yn"
   ]
  },
  {
   "cell_type": "code",
   "execution_count": null,
   "metadata": {},
   "outputs": [],
   "source": [
    "plt.plot(time,y)\n",
    "plt.plot(time,y0*np.exp(-time/tau))"
   ]
  },
  {
   "cell_type": "code",
   "execution_count": null,
   "metadata": {},
   "outputs": [],
   "source": [
    "tt = np.linspace(0,t.max(),1000)\n",
    "fig = plt.figure(figsize=(6,4))\n",
    "\n",
    "ax1 = plt.subplot(2,1,1)\n",
    "line, = ax1.plot([], [], lw=3)\n",
    "line1, = ax1.plot(tt,5*np.exp(-tt) )\n",
    "sc = ax1.scatter( [],[] )\n",
    "ax1.xaxis.set_visible(False)\n",
    "ax1.set_ylim(-1,6)\n",
    "ax1.set_ylabel(\"y\")\n",
    "#ax1.set_yscale('log')\n",
    "ax2 = plt.subplot(2,1,2)\n",
    "ax2.set_ylabel('relative error')\n",
    "line2, = ax2.plot( [],[] )\n",
    "ax1.set_xlim(0,5)\n",
    "ax2.set_xlim(0,5)\n",
    "ax2.set_ylim(0,1)\n",
    "#ax2.set_yscale('log')\n",
    "ax2.set_xlabel(\"t\")\n",
    "plt.tight_layout()\n",
    "\n",
    "def init():\n",
    "    line.set_data([], [])\n",
    "    sc.set_offsets( np.array([[],[]]).T)\n",
    "    return line,\n",
    "\n",
    "def animate(i):\n",
    "    sc.set_offsets( np.array([t[:i-1],x[:i-1]]).T )\n",
    "    line.set_data( t[:i], x[:i] )\n",
    "    err = 5 * np.exp(-t[:i]) - x[:i]\n",
    "    rel = err / x[:i]\n",
    "    line2.set_data( t[:i], rel)\n",
    "    if rel.size and rel.max() > max(ax2.get_ylim()):\n",
    "        ax2.set_ylim( 1e-2,rel.max() )\n",
    "    return line,"
   ]
  },
  {
   "cell_type": "code",
   "execution_count": null,
   "metadata": {},
   "outputs": [],
   "source": [
    "anim = FuncAnimation(fig, animate, init_func=init,\n",
    "                               frames=t.size, interval=5/t.size * 1000, blit=True)\n",
    "HTML( anim.to_html5_video() )"
   ]
  },
  {
   "cell_type": "code",
   "execution_count": null,
   "metadata": {},
   "outputs": [],
   "source": [
    "h = np.logspace(-10,-1,100)\n",
    "err = np.finfo(np.float).eps / h + h"
   ]
  },
  {
   "cell_type": "code",
   "execution_count": null,
   "metadata": {},
   "outputs": [],
   "source": [
    "plt.loglog(h,err)"
   ]
  },
  {
   "cell_type": "code",
   "execution_count": null,
   "metadata": {},
   "outputs": [],
   "source": []
  },
  {
   "cell_type": "code",
   "execution_count": null,
   "metadata": {},
   "outputs": [],
   "source": [
    ".2**2"
   ]
  },
  {
   "cell_type": "code",
   "execution_count": null,
   "metadata": {},
   "outputs": [],
   "source": []
  }
 ],
 "metadata": {
  "kernelspec": {
   "display_name": "Python 3",
   "language": "python",
   "name": "python3"
  },
  "language_info": {
   "codemirror_mode": {
    "name": "ipython",
    "version": 3
   },
   "file_extension": ".py",
   "mimetype": "text/x-python",
   "name": "python",
   "nbconvert_exporter": "python",
   "pygments_lexer": "ipython3",
   "version": "3.7.6"
  }
 },
 "nbformat": 4,
 "nbformat_minor": 4
}
