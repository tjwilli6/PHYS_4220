{
 "cells": [
  {
   "cell_type": "code",
   "execution_count": 1,
   "metadata": {},
   "outputs": [],
   "source": [
    "import numpy as np\n",
    "import matplotlib.pyplot as plt"
   ]
  },
  {
   "cell_type": "code",
   "execution_count": null,
   "metadata": {},
   "outputs": [],
   "source": [
    "def projectile(v0,theta0,dt=0.01,tstop=10):\n",
    "    \n",
    "    t = np.arange(0,tstop,dt)\n",
    "    \n",
    "    vx = np.zeros_like(t)\n",
    "    vy = np.zeros_like(t)\n",
    "    x  = np.zeros_like(t)\n",
    "    y  = np.zeros_like(t)\n",
    "    \n",
    "    angle = np.deg2rad(theta0)\n",
    "    #initial value for v0\n",
    "    y[0] = 1\n",
    "    for i in range(1,t.size):\n",
    "        r = np.hypot(x[i-1],y[i-1])**2\n",
    "        vx[i] = vx[i-1] - 1/r**(3/2) * x[i-1] * dt\n",
    "        vy[i] = vy[i-1] - 1/r**(3/2) * y[i-1] * dt\n",
    "        \n",
    "        x[i] = x[i-1] + vx[i-1] * dt\n",
    "        y[i] = y[i-1] + vy[i-1] * dt\n",
    "        \n",
    "        if np.hypot(x[i],y[i]) < 1:\n",
    "            break\n",
    "    inds = np.where( np.hypot(x,y) < 1 )[0]\n",
    "    if inds.size:\n",
    "        m = slice(0,inds[0]+1)\n",
    "    else:\n",
    "        m = slice(0,x.size)\n",
    "    return [elem[m] for elem in (t,vx,vy,x,y) ]"
   ]
  }
 ],
 "metadata": {
  "kernelspec": {
   "display_name": "Python 3",
   "language": "python",
   "name": "python3"
  },
  "language_info": {
   "codemirror_mode": {
    "name": "ipython",
    "version": 3
   },
   "file_extension": ".py",
   "mimetype": "text/x-python",
   "name": "python",
   "nbconvert_exporter": "python",
   "pygments_lexer": "ipython3",
   "version": "3.7.6"
  }
 },
 "nbformat": 4,
 "nbformat_minor": 4
}
