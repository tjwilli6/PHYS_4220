{
 "cells": [
  {
   "cell_type": "markdown",
   "metadata": {},
   "source": [
    "Computational Physics\n",
    "Project 1\n",
    "Riley Braselton"
   ]
  },
  {
   "cell_type": "code",
   "execution_count": 1,
   "metadata": {},
   "outputs": [],
   "source": [
    "#Import Packages\n",
    "import numpy as np\n",
    "import matplotlib.pyplot as plt\n",
    "import math"
   ]
  },
  {
   "cell_type": "code",
   "execution_count": 2,
   "metadata": {},
   "outputs": [],
   "source": [
    "#Momentum Equations \n",
    "def momentum(v1i, v2i, r):\n",
    "    #First Ball Final velcoity \n",
    "    v1f = ((1-r)/(1+r))*v1i + ((2*r)/(1+r))*v2i\n",
    "    #Second Ball Final velocity\n",
    "    v2f = (2/(1+r))*v1i + ((r-1)/(r+1))*v2i\n",
    "    \n",
    "    if debug:\n",
    "        E0 = v1i**2 + r * v2i**2\n",
    "        E1 = v1f**2 + r *v2f**2\n",
    "        p0 = v1i + r *v2i\n",
    "        p1 = v1f + r * v2f\n",
    "    \n",
    "    return v1f, v2f"
   ]
  },
  {
   "cell_type": "code",
   "execution_count": 3,
   "metadata": {},
   "outputs": [],
   "source": [
    "#Energy Equation\n",
    "def energy(v1,v2,y1,y2,r):\n",
    "    return(0.5*v1**2 + 0.5*v2**2 * r + y1 + r*y2) / (1+r)"
   ]
  },
  {
   "cell_type": "code",
   "execution_count": 4,
   "metadata": {},
   "outputs": [],
   "source": [
    "# Following mass ratio equations\n",
    "def ball(r=0, tstop = 10, dt = 0.01, radius = 0.01, y0 = [.5,1], debug = True):\n",
    "    t = np.arange(0, tstop*np.sqrt(2), dt)\n",
    "    v1 = np.zeros_like(t)\n",
    "    y1 = np.zeros_like(t)\n",
    "    v2 = np.zeros_like(t)\n",
    "    y2 = np.zeros_like(t)\n",
    "    \n",
    "    vball = []\n",
    "    yball = []\n",
    "    y1[0] = y0[0]\n",
    "    y2[0] = y0[1]\n",
    "    \n",
    "    for i in range(1, t.size):\n",
    "        # If r is equal \n",
    "        if debug:eng = energy(v1[i-1], v2[i-2],y1[i-1],y2[i-1],r)\n",
    "        v1[i] = v1[i-1] - dt\n",
    "        y1[i] = y1[i-1] + v1[i] * dt\n",
    "        \n",
    "        v2[i] = v2[i-1] - dt\n",
    "        y2[i] = y2[i-1] + v2[i] *dt\n",
    "        \n",
    "        ground = False\n",
    "        # mass ratio is between 0 and radius\n",
    "        if (y1[i] <= radius) and (v1[i] < 0):\n",
    "            vball.append(v2[i])\n",
    "            yball.append(y2[i])\n",
    "            ground = True\n",
    "            v1[i] = -v1[i-1]\n",
    "            y1[i] = y1[i-1] + v1[i] *dt\n",
    "            \n",
    "        # mass ratio \n",
    "        if y2[i] - y1[i] <= radius:\n",
    "            v1i = v1[i-1]\n",
    "            v2i = v2[i-1]\n",
    "            if ground:\n",
    "                v1i = v1[i]\n",
    "            v1f, v2f = momentum(v1i, v2i, r)\n",
    "            v1[i] = v1f\n",
    "            v2[i] = v2f\n",
    "            y1[i] = y1[i-1] + v1[i] * dt\n",
    "            y2[i] = y2[i-1] + v2[i] * dt\n",
    "            \n",
    "        return t, v1, v2, y1, y2, vball, yball"
   ]
  },
  {
   "cell_type": "code",
   "execution_count": null,
   "metadata": {},
   "outputs": [],
   "source": []
  },
  {
   "cell_type": "code",
   "execution_count": 5,
   "metadata": {},
   "outputs": [
    {
     "data": {
      "text/plain": [
       "<matplotlib.legend.Legend at 0x2f8dbd6780>"
      ]
     },
     "execution_count": 5,
     "metadata": {},
     "output_type": "execute_result"
    },
    {
     "data": {
      "image/png": "[encoded data removed]",
      "text/plain": [
       "<Figure size 432x288 with 1 Axes>"
      ]
     },
     "metadata": {
      "needs_background": "light"
     },
     "output_type": "display_data"
    },
    {
     "data": {
      "image/png": "[encoded data removed]",
      "text/plain": [
       "<Figure size 432x288 with 1 Axes>"
      ]
     },
     "metadata": {
      "needs_background": "light"
     },
     "output_type": "display_data"
    }
   ],
   "source": [
    "#r>1\n",
    "r=2\n",
    "t, v1, y1, v2, y2, vball, yball = ball(r)\n",
    "\n",
    "potential = (1/r+1)*(y1 + r*y2)\n",
    "kinetic = (1/r+1)*(.5*(v1**2) + .5*r*(v2**2))\n",
    "tot = potential + kinetic\n",
    "\n",
    "#graph for the trajectory\n",
    "plt.figure(0)\n",
    "plt.plot(t,y1)\n",
    "plt.plot(t,y2)\n",
    "plt.title(\"Trajectory for r>1\")\n",
    "plt.xlabel('t')\n",
    "plt.ylabel(\"y\")\n",
    "\n",
    "#graph of potential, kinetic and total energy\n",
    "plt.figure(1)\n",
    "plt.plot(t, potential, label = \"Potential\")\n",
    "plt.plot(t, kinetic, label = \"Kinetic\")\n",
    "plt.plot(t, tot, label = \"Total\")\n",
    "plt.title(\"Potential, Kinetic, and Total energy for r>1\")\n",
    "plt.legend(loc = 'best')"
   ]
  },
  {
   "cell_type": "code",
   "execution_count": 6,
   "metadata": {},
   "outputs": [
    {
     "data": {
      "text/plain": [
       "<matplotlib.legend.Legend at 0x2f8dcdcc18>"
      ]
     },
     "execution_count": 6,
     "metadata": {},
     "output_type": "execute_result"
    },
    {
     "data": {
      "image/png": "[encoded data removed]",
      "text/plain": [
       "<Figure size 432x288 with 1 Axes>"
      ]
     },
     "metadata": {
      "needs_background": "light"
     },
     "output_type": "display_data"
    },
    {
     "data": {
      "image/png": "[encoded data removed]",
      "text/plain": [
       "<Figure size 432x288 with 1 Axes>"
      ]
     },
     "metadata": {
      "needs_background": "light"
     },
     "output_type": "display_data"
    }
   ],
   "source": [
    "#r=1\n",
    "r=1\n",
    "t, v1, y1, v2, y2, vball, yball = ball(r)\n",
    "\n",
    "potential = (1/r+1)*(y1 + r*y2)\n",
    "kinetic = (1/r+1)*(.5*(v1**2) + .5*r*(v2**2))\n",
    "tot = potential + kinetic\n",
    "\n",
    "#graph for the trajectory\n",
    "plt.figure(0)\n",
    "plt.plot(t,y1)\n",
    "plt.plot(t,y2)\n",
    "plt.title(\"Trajectory for r=1\")\n",
    "plt.xlabel('t')\n",
    "plt.ylabel(\"y\")\n",
    "\n",
    "#graph potential, kinetic and total energy\n",
    "plt.figure(1)\n",
    "plt.plot(t, potential, label = \"Potential\")\n",
    "plt.plot(t, kinetic, label = \"Kinetic\")\n",
    "plt.plot(t, tot, label = \"Total\")\n",
    "plt.title(\"Potential, Kinetic, and Total energy for r=1\")\n",
    "plt.legend(loc = 'best')\n"
   ]
  },
  {
   "cell_type": "code",
   "execution_count": 7,
   "metadata": {},
   "outputs": [
    {
     "data": {
      "text/plain": [
       "<matplotlib.legend.Legend at 0x2f8dd34d68>"
      ]
     },
     "execution_count": 7,
     "metadata": {},
     "output_type": "execute_result"
    },
    {
     "data": {
      "image/png": "[encoded data removed]",
      "text/plain": [
       "<Figure size 432x288 with 1 Axes>"
      ]
     },
     "metadata": {
      "needs_background": "light"
     },
     "output_type": "display_data"
    },
    {
     "data": {
      "image/png": "[encoded data removed]",
      "text/plain": [
       "<Figure size 432x288 with 1 Axes>"
      ]
     },
     "metadata": {
      "needs_background": "light"
     },
     "output_type": "display_data"
    }
   ],
   "source": [
    "#r<1\n",
    "r=.5\n",
    "t, v1, y1, v2, y2, vball, yball = ball(r)\n",
    "\n",
    "potential = (1/r+1)*(y1 + r*y2)\n",
    "kinetic = (1/r+1)*(.5*(v1**2) + .5*r*(v2**2))\n",
    "tot = potential + kinetic\n",
    "\n",
    "#graph for the trajectory\n",
    "plt.figure(0)\n",
    "plt.plot(t,y1)\n",
    "plt.plot(t,y2)\n",
    "plt.title(\"Trajectory for r<1\")\n",
    "plt.xlabel('t')\n",
    "plt.ylabel(\"y\")\n",
    "\n",
    "#graph potential, kinetic and total energy\n",
    "plt.figure(1)\n",
    "plt.plot(t, potential, label = \"Potential\")\n",
    "plt.plot(t, kinetic, label = \"Kinetic\")\n",
    "plt.plot(t, tot, label = \"Total\")\n",
    "plt.title(\"Potential, Kinetic, and Total energy for r<1\")\n",
    "plt.legend(loc = 'best')"
   ]
  },
  {
   "cell_type": "code",
   "execution_count": null,
   "metadata": {},
   "outputs": [],
   "source": []
  },
  {
   "cell_type": "code",
   "execution_count": null,
   "metadata": {},
   "outputs": [],
   "source": []
  }
 ],
 "metadata": {
  "kernelspec": {
   "display_name": "Python 3",
   "language": "python",
   "name": "python3"
  },
  "language_info": {
   "codemirror_mode": {
    "name": "ipython",
    "version": 3
   },
   "file_extension": ".py",
   "mimetype": "text/x-python",
   "name": "python",
   "nbconvert_exporter": "python",
   "pygments_lexer": "ipython3",
   "version": "3.7.2"
  }
 },
 "nbformat": 4,
 "nbformat_minor": 4
}
