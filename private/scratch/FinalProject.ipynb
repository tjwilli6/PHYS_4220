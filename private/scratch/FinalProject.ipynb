{
 "cells": [
  {
   "cell_type": "markdown",
   "metadata": {},
   "source": [
    "Computational Physics\n",
    "Final Project 3\n",
    "Riley Braselton"
   ]
  },
  {
   "cell_type": "code",
   "execution_count": 1,
   "metadata": {},
   "outputs": [],
   "source": [
    "#Import Packages\n",
    "import numpy as np\n",
    "import matplotlib.pyplot as plt\n",
    "import math\n",
    "import time"
   ]
  },
  {
   "cell_type": "code",
   "execution_count": 2,
   "metadata": {},
   "outputs": [],
   "source": [
    "# Potential energy\n",
    "def potential(x,d,V0,x0):\n",
    "    v = np.zeros_like(x)\n",
    "    for i in range(x.size):\n",
    "        if x[i] >= x0 and x[i] <=x0+d:\n",
    "            v[i] = V0\n",
    "    return v"
   ]
  },
  {
   "cell_type": "code",
   "execution_count": 3,
   "metadata": {},
   "outputs": [],
   "source": [
    "# Initial Gaussian moving with momentum\n",
    "def psi_initial(x, x0, sigma, k=350):\n",
    "    return(((1/(np.pi*sigma**2))**(1/4))*\n",
    "           (np.exp((-1/2)*((x -x0)**2/sigma**2)))*\n",
    "           (np.exp(1j*k*(x - x0))) )"
   ]
  },
  {
   "cell_type": "code",
   "execution_count": 4,
   "metadata": {},
   "outputs": [],
   "source": [
    "# Initital Conditions\n",
    "x0 = 0.3\n",
    "sigma = 0.05\n",
    "k =350\n",
    "\n",
    "# Time and position steps\n",
    "dx = 5e-4\n",
    "dt = 1e-7\n",
    "\n",
    "# Grid Parameters\n",
    "x = np.arange(0,1.5,dx)\n",
    "t = np.arange(0, 2e-3, dt)\n",
    "\n",
    "# Potential Barrier\n",
    "x01 = 0.6\n",
    "d = 5e-3\n",
    "E = k**2 / 2 \n",
    "\n",
    "# V0 will be varied from 0 to 2E in steps of .2E\n",
    "V0 = 0.2*E\n",
    "\n",
    "# Getting the potential energy\n",
    "V = potential(x, d, V0, x01)"
   ]
  },
  {
   "cell_type": "code",
   "execution_count": 5,
   "metadata": {},
   "outputs": [
    {
     "name": "stderr",
     "output_type": "stream",
     "text": [
      "/Users/tjwilli/software/anaconda3/lib/python3.7/site-packages/numpy/core/_asarray.py:85: ComplexWarning: Casting complex values to real discards the imaginary part\n",
      "  return array(a, dtype, copy=False, order=order)\n"
     ]
    },
    {
     "data": {
      "text/plain": [
       "[<matplotlib.lines.Line2D at 0x7fb799493b90>]"
      ]
     },
     "execution_count": 5,
     "metadata": {},
     "output_type": "execute_result"
    },
    {
     "data": {
      "image/png": "[encoded data removed]",
      "text/plain": [
       "<Figure size 432x288 with 1 Axes>"
      ]
     },
     "metadata": {
      "needs_background": "light"
     },
     "output_type": "display_data"
    }
   ],
   "source": [
    "# Normalizing the psi equation\n",
    "psi0 = psi_initial(x,x0,sigma)\n",
    "plt.plot(x, np.conj(psi0)*psi0)"
   ]
  },
  {
   "cell_type": "code",
   "execution_count": 6,
   "metadata": {},
   "outputs": [
    {
     "name": "stdout",
     "output_type": "stream",
     "text": [
      "The integral is (1+0j)\n"
     ]
    }
   ],
   "source": [
    "# Checking Normalization\n",
    "integral = np.trapz(np.conj(psi0)*psi0,x)\n",
    "print('The integral is', integral)"
   ]
  },
  {
   "cell_type": "code",
   "execution_count": 7,
   "metadata": {},
   "outputs": [],
   "source": [
    "# Getting matrix C\n",
    "def C_matrix(v,dx,dt):\n",
    "    Hdiag = np.diag(-1j * (1/dx**2 + v), 0)\n",
    "    offdiag_elems = np.ones_like(x)[:-1] * 1j / 2 / dx**2\n",
    "    Hdiaglow = np.diag(offdiag_elems, k=-1)\n",
    "    Hdiaghi = np.diag(offdiag_elems, k =1)\n",
    "    Hoffdiag = Hdiaglow + Hdiaghi\n",
    "    H = Hdiag + Hoffdiag\n",
    "    print(np.diag(H))\n",
    "    \n",
    "    iden = np.identity(x.size)\n",
    "    A = iden - dt / 2 * H\n",
    "    B = iden + dt / 2 * H\n",
    "    \n",
    "    Ainv = np.linalg.inv(A)\n",
    "    C = np.matmul(Ainv, B)\n",
    "    return C"
   ]
  },
  {
   "cell_type": "code",
   "execution_count": 8,
   "metadata": {},
   "outputs": [
    {
     "name": "stdout",
     "output_type": "stream",
     "text": [
      "[0.-4000000.j 0.-4000000.j 0.-4000000.j ... 0.-4000000.j 0.-4000000.j\n",
      " 0.-4000000.j]\n"
     ]
    }
   ],
   "source": [
    "# Printing matrix C\n",
    "C = C_matrix(V, dx, dt)"
   ]
  },
  {
   "cell_type": "code",
   "execution_count": null,
   "metadata": {},
   "outputs": [],
   "source": [
    "# Psi equation many times\n",
    "psi_t = []\n",
    "psi_t.append(psi0)\n",
    "for time in t:\n",
    "    psi_t.append(np.dot(C, psi_t[-1]))"
   ]
  },
  {
   "cell_type": "code",
   "execution_count": null,
   "metadata": {},
   "outputs": [],
   "source": [
    "# Graph of psi^2\n",
    "prob = np.real(np.conj(psi_t[-1])*psi_t[-1])\n",
    "plt.plot(x,prob)\n",
    "plt.xlabel('x')\n",
    "plt.ylabel('psi^2')\n",
    "plt.title('x vs. psi^2 at V0 = 0.2E')"
   ]
  },
  {
   "cell_type": "code",
   "execution_count": null,
   "metadata": {},
   "outputs": [],
   "source": [
    "# Total probability\n",
    "totprob = np.trapz(prob,x)\n",
    "print(totprob)"
   ]
  },
  {
   "cell_type": "code",
   "execution_count": null,
   "metadata": {},
   "outputs": [],
   "source": [
    "for n in range(0, len(psi_t), 2000):\n",
    "    t = dt *n \n",
    "    prob = np.conj(psi_t[n]) * psi_t[n]\n",
    "    plt.plot(x, np.real(prob), label = 't=(:.2E)'.format(t))\n",
    "plt.legend()"
   ]
  },
  {
   "cell_type": "code",
   "execution_count": null,
   "metadata": {},
   "outputs": [],
   "source": [
    "xleft=[]\n",
    "pleft =[]\n",
    "for i in range(x.size):\n",
    "    if x[i] <x01:\n",
    "        xleft.append(x[i])\n",
    "        pleft.append(prob[i])\n",
    "        "
   ]
  },
  {
   "cell_type": "code",
   "execution_count": null,
   "metadata": {},
   "outputs": [],
   "source": [
    "# Probability of reflection\n",
    "p_reflect = np.trapz(pleft, xleft)\n",
    "print( p_reflect, \"Probability of reflection\".format(p_reflect))\n"
   ]
  },
  {
   "cell_type": "code",
   "execution_count": null,
   "metadata": {},
   "outputs": [],
   "source": [
    "# Probability of transmission\n",
    "p_trans = np.trapz(prob[x>x01+d], x[x>x01+d])\n",
    "print(p_trans, 'Probability of transmission'.format(p_trans))\n"
   ]
  },
  {
   "cell_type": "raw",
   "metadata": {},
   "source": [
    "Here is my table of the transmission and reflective probability for each step of V0.\n",
    "V0 was looked at from 0 to 2E in steps of 0.2\n",
    "What you should see is that the transmission and reflective probability always add up to 1.\n",
    "\n",
    "  V0 \tReflection Prob\tTransmission Prob\n",
    "   0\t2.3876557e-18\t0.999999999997392\n",
    "0.2E\t0.01252800491\t0.987471995\n",
    "0.4E\t0.06410199673\t0.935898003\n",
    "0.6E\t0.1691123034\t0.830887696\n",
    "0.8E\t0.3194595589\t0.6805404399\n",
    "   E\t 0.4840304481\t0.5159695499\n",
    "1.2E\t0.6307466876\t0.3692533094\n",
    "1.4E\t0.7443759431\t0.2556240531\n",
    "1.6E\t0.8252809692\t0.1747190261\n",
    "1.8E\t0.8804836877\t0.119516307\n",
    "  2E\t0.9175498655\t0.08245012851\n",
    "  \n",
    "Below is a link to google sheets if you want a cleaner look at the chart\n",
    "https://docs.google.com/spreadsheets/d/10XwT-ZGAHkk1-AYNZDeVlCXl3hzP4diM9ikuPe6lprU/edit?usp=sharing"
   ]
  },
  {
   "cell_type": "code",
   "execution_count": null,
   "metadata": {},
   "outputs": [],
   "source": []
  },
  {
   "cell_type": "code",
   "execution_count": null,
   "metadata": {},
   "outputs": [],
   "source": []
  }
 ],
 "metadata": {
  "kernelspec": {
   "display_name": "Python 3",
   "language": "python",
   "name": "python3"
  },
  "language_info": {
   "codemirror_mode": {
    "name": "ipython",
    "version": 3
   },
   "file_extension": ".py",
   "mimetype": "text/x-python",
   "name": "python",
   "nbconvert_exporter": "python",
   "pygments_lexer": "ipython3",
   "version": "3.7.6"
  }
 },
 "nbformat": 4,
 "nbformat_minor": 4
}
