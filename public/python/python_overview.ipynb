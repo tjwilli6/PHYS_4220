{
 "cells": [
  {
   "cell_type": "markdown",
   "metadata": {},
   "source": [
    "# A (very fast) overview of Python"
   ]
  },
  {
   "cell_type": "code",
   "execution_count": null,
   "metadata": {},
   "outputs": [],
   "source": [
    "print( \"Welcome to PHYS 4220\" )"
   ]
  },
  {
   "cell_type": "markdown",
   "metadata": {},
   "source": [
    "## Basic syntax"
   ]
  },
  {
   "cell_type": "markdown",
   "metadata": {},
   "source": [
    "## Declaring variables\n",
    "### https://www.learnpython.org/en/Variables_and_Types\n",
    "#### No need to \"declare\", typing is done automatically"
   ]
  },
  {
   "cell_type": "code",
   "execution_count": null,
   "metadata": {},
   "outputs": [],
   "source": [
    "#This is a comment\n",
    "x = 5\n",
    "class_name = 'PHYS 4220'\n",
    "class_name = \"PHYS 4220\" #same thing\n",
    "y = z = 2.71828\n",
    "\n",
    "print( x, class_name, y, z )"
   ]
  },
  {
   "cell_type": "markdown",
   "metadata": {},
   "source": [
    "## Built in types\n",
    "### Text: str"
   ]
  },
  {
   "cell_type": "code",
   "execution_count": null,
   "metadata": {},
   "outputs": [],
   "source": [
    "string_var = 'foo bar'\n",
    "string_from_float = str( 2.718 )"
   ]
  },
  {
   "cell_type": "markdown",
   "metadata": {},
   "source": [
    "### Numeric: int, float"
   ]
  },
  {
   "cell_type": "code",
   "execution_count": null,
   "metadata": {},
   "outputs": [],
   "source": [
    "int_var = 3\n",
    "float_var = 3.14\n",
    "float_from_string = float( '2.718' )"
   ]
  },
  {
   "cell_type": "markdown",
   "metadata": {},
   "source": [
    "### Sequences: list, dict, set\n",
    "#### https://www.learnpython.org/en/Lists\n",
    "#### https://www.learnpython.org/en/Dictionaries\n",
    "#### https://www.learnpython.org/en/Sets"
   ]
  },
  {
   "cell_type": "code",
   "execution_count": null,
   "metadata": {},
   "outputs": [],
   "source": [
    "#Lists\n",
    "temp_list = [ 1, \"temp\", 3.14 ]\n",
    "\n",
    "#We can add elements to lists with append()\n",
    "temp_list.append( 'new value' )\n",
    "\n",
    "#We can index lists like this\n",
    "index = 1\n",
    "elem = temp_list[index]\n",
    "\n",
    "#len() gives us the size of a sequence\n",
    "list_size = len( temp_list )\n",
    "#print( temp_list, elem, list_size )\n",
    "print( temp_list )\n",
    "print( 'Element {} of the list is: {}'.format(index,elem) )\n",
    "print( 'The list contains {} items'.format(list_size) )"
   ]
  },
  {
   "cell_type": "code",
   "execution_count": null,
   "metadata": {},
   "outputs": [],
   "source": [
    "#Dicts\n",
    "temp_dict = { 'key':'value', 'class_name':'PHYS4220', 'num_students':3 }\n",
    "\n",
    "elem = temp_dict['class_name']\n",
    "print( temp_dict, elem, len(temp_dict) )"
   ]
  },
  {
   "cell_type": "code",
   "execution_count": null,
   "metadata": {},
   "outputs": [],
   "source": [
    "#Sets\n",
    "temp_set = {1,1,2,3,4,4}\n",
    "temp_set2 = {0,1,2}\n",
    "print(temp_set,temp_set.intersection(temp_set2))"
   ]
  },
  {
   "cell_type": "markdown",
   "metadata": {},
   "source": [
    "## Printing \n",
    "https://realpython.com/python-formatted-output/#the-python-string-format-method"
   ]
  },
  {
   "cell_type": "code",
   "execution_count": 11,
   "metadata": {},
   "outputs": [
    {
     "name": "stdout",
     "output_type": "stream",
     "text": [
      "Pi is approximately 3.14159 , e is approximately 2.71828\n",
      "Pi is approximately 3.14159, e is approximately 2.71828\n",
      "Pi is approximately 3.1, e is approximately 2.7\n",
      "Pi is approximately 3.14, e is approximately 2.72\n"
     ]
    }
   ],
   "source": [
    "pi = 3.14159\n",
    "e = 2.71828\n",
    "\n",
    "print(\"Pi is approximately\",pi,\", e is approximately\",e)\n",
    "print(\"Pi is approximately {}, e is approximately {}\".format(pi,e))\n",
    "print(\"Pi is approximately {:.1f}, e is approximately {:.1f}\".format(pi,e))\n",
    "print(\"Pi is approximately {arg1:.2f}, e is approximately {arg2:.2f}\".format(arg1=pi,arg2=e))"
   ]
  },
  {
   "cell_type": "markdown",
   "metadata": {},
   "source": [
    "## Basic operations\n",
    "### +, -, * , /, ** , %\n",
    "https://www.learnpython.org/en/Basic_Operators"
   ]
  },
  {
   "cell_type": "code",
   "execution_count": null,
   "metadata": {},
   "outputs": [],
   "source": [
    "pi = 3.14\n",
    "radius = 5\n",
    "volume = 4/3 * pi * radius**3\n",
    "print(volume)"
   ]
  },
  {
   "cell_type": "code",
   "execution_count": 12,
   "metadata": {},
   "outputs": [
    {
     "name": "stdout",
     "output_type": "stream",
     "text": [
      "The remainder of 10/3 is: 1\n"
     ]
    }
   ],
   "source": [
    "remainder = 10 % 3\n",
    "print( \"The remainder of 10/3 is:\",remainder )"
   ]
  },
  {
   "cell_type": "code",
   "execution_count": null,
   "metadata": {},
   "outputs": [],
   "source": [
    "even_numbers = [2,4,6,8]\n",
    "odd_numbers = [1,3,5,7]\n",
    "all_numbers = odd_numbers + even_numbers\n",
    "print(all_numbers)\n",
    "\n",
    "str1 = \"hello\"\n",
    "str2 = \"world\"\n",
    "tot = str1 + ' ' + str2\n",
    "print(tot)"
   ]
  },
  {
   "cell_type": "markdown",
   "metadata": {},
   "source": [
    "## Flow of control"
   ]
  },
  {
   "cell_type": "markdown",
   "metadata": {},
   "source": [
    "### Loops \n",
    "#### https://www.learnpython.org/en/Loops"
   ]
  },
  {
   "cell_type": "code",
   "execution_count": null,
   "metadata": {},
   "outputs": [],
   "source": [
    "for x in range(5):\n",
    "    print( x**2 ) #all statements inside loop have same indentation"
   ]
  },
  {
   "cell_type": "code",
   "execution_count": 25,
   "metadata": {},
   "outputs": [
    {
     "name": "stdout",
     "output_type": "stream",
     "text": [
      "animal\n",
      "3.14\n",
      "None\n",
      "False\n"
     ]
    }
   ],
   "source": [
    "mylist = [\"animal\", 3.14, None, False]\n",
    "for item in mylist:\n",
    "    print( item )"
   ]
  },
  {
   "cell_type": "code",
   "execution_count": 26,
   "metadata": {},
   "outputs": [
    {
     "name": "stdout",
     "output_type": "stream",
     "text": [
      "1\n",
      "2\n",
      "3\n",
      "4\n",
      "5\n",
      "6\n"
     ]
    }
   ],
   "source": [
    "x = 0\n",
    "while x <= 5:\n",
    "            x+=1     #Doesn't matter how much I indent\n",
    "            print(x) #But it needs to be consistent"
   ]
  },
  {
   "cell_type": "code",
   "execution_count": null,
   "metadata": {},
   "outputs": [],
   "source": [
    "my_list = [ x**2 for x in range(5) ]\n",
    "print( my_list )"
   ]
  },
  {
   "cell_type": "markdown",
   "metadata": {},
   "source": [
    "### Conditional Logic\n",
    "#### https://www.learnpython.org/en/Conditions"
   ]
  },
  {
   "cell_type": "code",
   "execution_count": null,
   "metadata": {},
   "outputs": [],
   "source": [
    "x = 4\n",
    "print( x==4, True or False, True and False, not x > 0, bool(x) )\n",
    "\n",
    "mylist = [1,1,2,3,5]\n",
    "print( 1 in mylist, 6 in mylist )"
   ]
  },
  {
   "cell_type": "code",
   "execution_count": 28,
   "metadata": {},
   "outputs": [
    {
     "name": "stdout",
     "output_type": "stream",
     "text": [
      "\"a\" is positive\n"
     ]
    }
   ],
   "source": [
    "a = 1.5\n",
    "\n",
    "output = '\"a\" is '\n",
    "if a > 0:\n",
    "    output += 'positive'\n",
    "elif a < 0:\n",
    "    output += 'negative'\n",
    "else:\n",
    "    output += 'zero'\n",
    "\n",
    "print( output )"
   ]
  },
  {
   "cell_type": "markdown",
   "metadata": {},
   "source": [
    "## Functions"
   ]
  },
  {
   "cell_type": "code",
   "execution_count": null,
   "metadata": {},
   "outputs": [],
   "source": [
    "def my_function():\n",
    "    print( 'Hello world' )\n",
    "    #return None <-- automatic unless otherwise stated\n",
    "my_function()"
   ]
  },
  {
   "cell_type": "code",
   "execution_count": null,
   "metadata": {},
   "outputs": [],
   "source": [
    "def add( num1, num2 ):\n",
    "    return num1 + num2\n",
    "print( add(3,4) )"
   ]
  },
  {
   "cell_type": "code",
   "execution_count": null,
   "metadata": {},
   "outputs": [],
   "source": [
    "def print_greetings(name,title='Ms.'):\n",
    "    print( 'Hello, I am {} {}'.format(title,name) )\n",
    "print_greetings( 'Smith' ) #default is used for title\n",
    "print_greetings( 'Dolittle', title='Dr.') \n",
    "print_greetings( 'Crunch', 'Lieutenant') #Can also pass like this"
   ]
  },
  {
   "cell_type": "code",
   "execution_count": null,
   "metadata": {},
   "outputs": [],
   "source": [
    "#Inline functions using lambda\n",
    "import math\n",
    "calc_area = lambda radius: 4 * math.pi * radius ** 2\n",
    "print( '{:.5f}'.format(calc_area(2) ) )"
   ]
  },
  {
   "cell_type": "markdown",
   "metadata": {},
   "source": [
    "## Putting it all together: Examples"
   ]
  },
  {
   "cell_type": "markdown",
   "metadata": {},
   "source": [
    "### Collecting user input inside a loop"
   ]
  },
  {
   "cell_type": "code",
   "execution_count": null,
   "metadata": {},
   "outputs": [],
   "source": [
    "user_input = ''\n",
    "tot = 0\n",
    "while True: #infinite loop!!!\n",
    "    user_value = input( \"Enter a number, or type END to quit\" )\n",
    "    if user_value == 'END':\n",
    "        break #Break out of the loop\n",
    "    tot += float( user_value ) #!!!! Should really wrap this in try/except\n",
    "\n",
    "print( 'The sum of all numbers entered is: {}'.format(tot) )"
   ]
  },
  {
   "cell_type": "markdown",
   "metadata": {},
   "source": [
    "### Mean of many random numbers"
   ]
  },
  {
   "cell_type": "code",
   "execution_count": null,
   "metadata": {},
   "outputs": [],
   "source": [
    "import random\n",
    "SIZE = 100\n",
    "\n",
    "values = []\n",
    "for i in range(SIZE):\n",
    "    inumber = random.random() # uniform in (0,1)\n",
    "    values.append( inumber )\n",
    "    \n",
    "def get_mean( numbers ):\n",
    "    \"\"\"Get the average of a list of numbers\"\"\"\n",
    "    totsum = 0\n",
    "    for num in numbers:\n",
    "        totsum += num\n",
    "    return totsum / len(numbers)\n",
    "\n",
    "mean = get_mean( values )\n",
    "print( 'mean = {:.2f}'.format(mean) )"
   ]
  },
  {
   "cell_type": "markdown",
   "metadata": {},
   "source": [
    "### Same thing but fewer lines"
   ]
  },
  {
   "cell_type": "code",
   "execution_count": null,
   "metadata": {},
   "outputs": [],
   "source": [
    "import random\n",
    "SIZE = 100\n",
    "values = [ random.random() for i in range(SIZE) ]\n",
    "mean = sum( values ) / len(values)\n",
    "print( 'mean = {:.2f}'.format(mean) )"
   ]
  },
  {
   "cell_type": "markdown",
   "metadata": {},
   "source": [
    "## Finding legs of a triangle"
   ]
  },
  {
   "cell_type": "code",
   "execution_count": 2,
   "metadata": {},
   "outputs": [],
   "source": [
    "def pythagorus(adjacent,opposite,hypot):\n",
    "    \"\"\"Given any two sides of the triangle, calculate the third side\"\"\"\n",
    "    #your code here"
   ]
  },
  {
   "cell_type": "code",
   "execution_count": null,
   "metadata": {},
   "outputs": [],
   "source": [
    "assert( pythagorus(3,None,5)==4 ) #unit test\n",
    "assert( pythagorus(None,12,13)==5 )"
   ]
  },
  {
   "cell_type": "markdown",
   "metadata": {},
   "source": [
    "## Modified Fibonacci\n",
    "### (nth term = sum of previous FOUR terms)"
   ]
  },
  {
   "cell_type": "code",
   "execution_count": 1,
   "metadata": {},
   "outputs": [],
   "source": [
    "def sum_previous_four(n=20):\n",
    "    \"\"\"Return the nth term of the sequence defined as the sum of the previous four terms.\n",
    "        It's just like the Fibonacci except we sum previous 4 instead of 2\"\"\"\n",
    "    sequence = [1,1,1,1] #First four values of our sequence\n",
    "    "
   ]
  },
  {
   "cell_type": "code",
   "execution_count": 2,
   "metadata": {},
   "outputs": [
    {
     "ename": "AssertionError",
     "evalue": "",
     "output_type": "error",
     "traceback": [
      "\u001b[0;31m---------------------------------------------------------------------------\u001b[0m",
      "\u001b[0;31mAssertionError\u001b[0m                            Traceback (most recent call last)",
      "\u001b[0;32m<ipython-input-2-2351f440a503>\u001b[0m in \u001b[0;36m<module>\u001b[0;34m\u001b[0m\n\u001b[1;32m      1\u001b[0m \u001b[0;31m#Unit testing\u001b[0m\u001b[0;34m\u001b[0m\u001b[0;34m\u001b[0m\u001b[0;34m\u001b[0m\u001b[0m\n\u001b[0;32m----> 2\u001b[0;31m \u001b[0;32massert\u001b[0m\u001b[0;34m(\u001b[0m \u001b[0msum_previous_four\u001b[0m\u001b[0;34m(\u001b[0m\u001b[0mn\u001b[0m\u001b[0;34m=\u001b[0m\u001b[0;36m4\u001b[0m\u001b[0;34m)\u001b[0m\u001b[0;34m==\u001b[0m\u001b[0;36m1\u001b[0m \u001b[0;34m)\u001b[0m\u001b[0;34m\u001b[0m\u001b[0;34m\u001b[0m\u001b[0m\n\u001b[0m\u001b[1;32m      3\u001b[0m \u001b[0;32massert\u001b[0m\u001b[0;34m(\u001b[0m \u001b[0msum_previous_four\u001b[0m\u001b[0;34m(\u001b[0m\u001b[0mn\u001b[0m\u001b[0;34m=\u001b[0m\u001b[0;36m12\u001b[0m\u001b[0;34m)\u001b[0m\u001b[0;34m==\u001b[0m\u001b[0;36m349\u001b[0m \u001b[0;34m)\u001b[0m\u001b[0;34m\u001b[0m\u001b[0;34m\u001b[0m\u001b[0m\n\u001b[1;32m      4\u001b[0m \u001b[0;32massert\u001b[0m\u001b[0;34m(\u001b[0m \u001b[0msum_previous_four\u001b[0m\u001b[0;34m(\u001b[0m\u001b[0mn\u001b[0m\u001b[0;34m=\u001b[0m\u001b[0;36m30\u001b[0m\u001b[0;34m)\u001b[0m\u001b[0;34m==\u001b[0m\u001b[0;36m47105854\u001b[0m \u001b[0;34m)\u001b[0m\u001b[0;34m\u001b[0m\u001b[0;34m\u001b[0m\u001b[0m\n",
      "\u001b[0;31mAssertionError\u001b[0m: "
     ]
    }
   ],
   "source": [
    "#Unit testing\n",
    "assert( sum_previous_four(n=4)==1 )\n",
    "assert( sum_previous_four(n=12)==349 )\n",
    "assert( sum_previous_four(n=30)==47105854 )"
   ]
  },
  {
   "cell_type": "markdown",
   "metadata": {},
   "source": [
    "## Reading from a file\n",
    "### First let's take a peak..."
   ]
  },
  {
   "cell_type": "code",
   "execution_count": 6,
   "metadata": {},
   "outputs": [
    {
     "name": "stdout",
     "output_type": "stream",
     "text": [
      "TIME FRACTION\n",
      "0.000000000000000000e+00 9.997792727537621049e-01\n",
      "2.893939393939393767e+02 9.715459468513785168e-01\n",
      "5.787878787878787534e+02 9.356715731092750676e-01\n",
      "8.681818181818182438e+02 9.068697910001417561e-01\n",
      "1.157575757575757507e+03 8.532519539122948027e-01\n",
      "1.446969696969696997e+03 8.329856147659917553e-01\n",
      "1.736363636363636488e+03 8.182898096375779140e-01\n",
      "2.025757575757575751e+03 7.705115775123815292e-01\n",
      "2.315151515151515014e+03 7.656908295258282315e-01\n"
     ]
    }
   ],
   "source": [
    "!head -n10 data.txt"
   ]
  },
  {
   "cell_type": "markdown",
   "metadata": {},
   "source": [
    "### We're expecting two columns of numerical data"
   ]
  },
  {
   "cell_type": "code",
   "execution_count": 29,
   "metadata": {
    "scrolled": true
   },
   "outputs": [],
   "source": [
    "datafile = open( \"data.txt\" )\n",
    "\n",
    "#Initialize two lists to hold the data\n",
    "time = []\n",
    "frac = []\n",
    "\n",
    "#readlines() returns a list of strings, one line per entry\n",
    "for line in datafile.readlines():\n",
    "    #Skip the first line (could also use a counter to do this)\n",
    "    if 'TIME' in line or 'FRACTION' in line:\n",
    "        continue\n",
    "    itime,ifrac = line.split() #Split line by whitespace\n",
    "    time.append( float(itime) )\n",
    "    frac.append( float(ifrac) )\n",
    "    \n",
    "datafile.close()"
   ]
  },
  {
   "cell_type": "code",
   "execution_count": 30,
   "metadata": {},
   "outputs": [
    {
     "name": "stdout",
     "output_type": "stream",
     "text": [
      "0.02105682901587185 0.9997792727537621\n"
     ]
    }
   ],
   "source": [
    "print( min(frac),max(frac))"
   ]
  },
  {
   "cell_type": "markdown",
   "metadata": {},
   "source": [
    "### At what time is frac closest to 0.5?"
   ]
  },
  {
   "cell_type": "code",
   "execution_count": 31,
   "metadata": {},
   "outputs": [
    {
     "data": {
      "text/plain": [
       "False"
      ]
     },
     "execution_count": 31,
     "metadata": {},
     "output_type": "execute_result"
    }
   ],
   "source": [
    "0.5 in frac"
   ]
  },
  {
   "cell_type": "code",
   "execution_count": 42,
   "metadata": {},
   "outputs": [
    {
     "name": "stdout",
     "output_type": "stream",
     "text": [
      "Closest to target frac 0.5 at time 5498.48\n"
     ]
    }
   ],
   "source": [
    "#Find the minimum of abs( frac - target_frac )\n",
    "target_frac = 0.5\n",
    "target_time = -1 #Default to a bogus value\n",
    "\n",
    "min_diff = 2.0 #Default to bogus value (can never be > 1)\n",
    "\n",
    "for itime,ifrac in zip(time,frac): #Loop through multiple lists simultaneously\n",
    "    abs_diff = abs( ifrac - target_frac ) #Find the difference\n",
    "    if abs_diff < min_diff: #If it's smaller than our current minimum, replace\n",
    "        min_diff = abs_diff\n",
    "        target_time = itime\n",
    "print( \"Closest to target frac {} at time {:.2f}\".format(target_frac,target_time) )"
   ]
  },
  {
   "cell_type": "code",
   "execution_count": null,
   "metadata": {},
   "outputs": [],
   "source": []
  }
 ],
 "metadata": {
  "kernelspec": {
   "display_name": "Python 3",
   "language": "python",
   "name": "python3"
  },
  "language_info": {
   "codemirror_mode": {
    "name": "ipython",
    "version": 3
   },
   "file_extension": ".py",
   "mimetype": "text/x-python",
   "name": "python",
   "nbconvert_exporter": "python",
   "pygments_lexer": "ipython3",
   "version": "3.7.6"
  }
 },
 "nbformat": 4,
 "nbformat_minor": 4
}
